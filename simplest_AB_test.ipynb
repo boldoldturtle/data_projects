{
 "cells": [
  {
   "cell_type": "markdown",
   "id": "d93e1253",
   "metadata": {},
   "source": [
    "# A/B-тестирование"
   ]
  },
  {
   "cell_type": "markdown",
   "id": "4a3aeaad",
   "metadata": {},
   "source": [
    "### Постановка задачи\n",
    "\n",
    "Ваша задача — провести оценку результатов A/B-теста. В вашем распоряжении есть датасет с действиями пользователей, техническое задание и несколько вспомогательных датасетов.\n",
    "\n",
    "Оцените корректность проведения теста и проанализируйте его результаты."
   ]
  },
  {
   "cell_type": "markdown",
   "id": "5c79fc07",
   "metadata": {},
   "source": [
    "### Техническое задание\n",
    "\n",
    "- Название теста: `recommender_system_test`;\n",
    "- группы: А — контрольная, B — новая платёжная воронка;\n",
    "- дата запуска: 2020-12-07;\n",
    "- дата остановки набора новых пользователей: 2020-12-21;\n",
    "- дата остановки: 2021-01-04;\n",
    "- аудитория: в тест должно быть отобрано 15% новых пользователей из региона EU;\n",
    "- назначение теста: тестирование изменений, связанных с внедрением улучшенной рекомендательной системы;\n",
    "- ожидаемое количество участников теста: 6000.\n",
    "- ожидаемый эффект: за 14 дней с момента регистрации пользователи покажут улучшение каждой метрики не менее, чем на 10%:\n",
    "    - конверсии в просмотр карточек товаров — событие `product_page`,\n",
    "    - просмотры корзины — `product_cart`,\n",
    "    - покупки — `purchase`."
   ]
  },
  {
   "cell_type": "markdown",
   "id": "4d1707ec",
   "metadata": {},
   "source": [
    "### Описание данных\n",
    "\n",
    "`ab_project_marketing_events.csv` — календарь маркетинговых событий на 2020 год.\n",
    "\n",
    "Структура файла:\n",
    "\n",
    "- `name` — название маркетингового события;\n",
    "- `regions` — регионы, в которых будет проводиться рекламная кампания;\n",
    "- `start_dt` — дата начала кампании;\n",
    "- `finish_dt` — дата завершения кампании.\n",
    "\n",
    "`final_ab_new_users.csv` — пользователи, зарегистрировавшиеся с 7 до 21 декабря 2020 года.\n",
    "\n",
    "Структура файла:\n",
    "\n",
    "- `user_id` — идентификатор пользователя;\n",
    "- `first_date` — дата регистрации;\n",
    "- `region` — регион пользователя;\n",
    "- `device` — устройство, с которого происходила регистрация.\n",
    "\n",
    "`final_ab_events.csv` — действия новых пользователей в период с 7 декабря 2020 по 4 января 2021 года.\n",
    "\n",
    "Структура файла:\n",
    "\n",
    "- `user_id` — идентификатор пользователя;\n",
    "- `event_dt` — дата и время события;\n",
    "- `event_name` — тип события;\n",
    "- `details` — дополнительные данные о событии. Например, для покупок, `purchase,` в этом поле хранится стоимость покупки в долларах.\n",
    "\n",
    "`final_ab_participants.csv` — таблица участников тестов.\n",
    "\n",
    "Структура файла:\n",
    "\n",
    "- `user_id` — идентификатор пользователя;\n",
    "- `ab_test` — название теста;\n",
    "- `group` — группа пользователя."
   ]
  },
  {
   "cell_type": "code",
   "execution_count": 1,
   "id": "9b067f85",
   "metadata": {},
   "outputs": [],
   "source": [
    "import pandas as pd\n",
    "import seaborn as sns\n",
    "import matplotlib.pyplot as plt\n",
    "from statsmodels.stats.proportion import proportions_ztest"
   ]
  },
  {
   "cell_type": "code",
   "execution_count": 2,
   "id": "522b5a65",
   "metadata": {},
   "outputs": [],
   "source": [
    "events_data = pd.read_csv('final_ab_events.csv')\n",
    "participants_data = pd.read_csv('final_ab_participants.csv')\n",
    "marketing_events_data = pd.read_csv('ab_project_marketing_events.csv')\n",
    "new_users_data = pd.read_csv('final_ab_new_users.csv')\n",
    "\n",
    "#events_data = pd.read_csv('/datasets/final_ab_events.csv')\n",
    "#participants_data = pd.read_csv('/datasets/final_ab_participants.csv')\n",
    "#marketing_events_data = pd.read_csv('/datasets/ab_project_marketing_events.csv')\n",
    "#new_users_data = pd.read_csv('/datasets/final_ab_new_users.csv')"
   ]
  },
  {
   "cell_type": "markdown",
   "id": "e57d9570",
   "metadata": {},
   "source": [
    "### Первичный анализ датасетов"
   ]
  },
  {
   "cell_type": "markdown",
   "id": "3aa56c94",
   "metadata": {},
   "source": [
    "Напишем небольшую функцию для анализа наших датасетов"
   ]
  },
  {
   "cell_type": "code",
   "execution_count": 3,
   "id": "ceede45d",
   "metadata": {},
   "outputs": [],
   "source": [
    "def analysis_df(df):\n",
    "    rows_count, columns_count = df.shape\n",
    "    print('Количество стобцов:', columns_count)\n",
    "    print('Количество строк:', rows_count)\n",
    "    display(df.head(5))\n",
    "    display(df.describe())\n",
    "    print('Уникальные значения для каждого столбца')\n",
    "    display(df.nunique())\n",
    "    df.info()"
   ]
  },
  {
   "cell_type": "code",
   "execution_count": 4,
   "id": "d5424e44",
   "metadata": {},
   "outputs": [
    {
     "name": "stdout",
     "output_type": "stream",
     "text": [
      "Количество стобцов: 4\n",
      "Количество строк: 440317\n"
     ]
    },
    {
     "data": {
      "text/html": [
       "<div>\n",
       "<style scoped>\n",
       "    .dataframe tbody tr th:only-of-type {\n",
       "        vertical-align: middle;\n",
       "    }\n",
       "\n",
       "    .dataframe tbody tr th {\n",
       "        vertical-align: top;\n",
       "    }\n",
       "\n",
       "    .dataframe thead th {\n",
       "        text-align: right;\n",
       "    }\n",
       "</style>\n",
       "<table border=\"1\" class=\"dataframe\">\n",
       "  <thead>\n",
       "    <tr style=\"text-align: right;\">\n",
       "      <th></th>\n",
       "      <th>user_id</th>\n",
       "      <th>event_dt</th>\n",
       "      <th>event_name</th>\n",
       "      <th>details</th>\n",
       "    </tr>\n",
       "  </thead>\n",
       "  <tbody>\n",
       "    <tr>\n",
       "      <th>0</th>\n",
       "      <td>E1BDDCE0DAFA2679</td>\n",
       "      <td>2020-12-07 20:22:03</td>\n",
       "      <td>purchase</td>\n",
       "      <td>99.99</td>\n",
       "    </tr>\n",
       "    <tr>\n",
       "      <th>1</th>\n",
       "      <td>7B6452F081F49504</td>\n",
       "      <td>2020-12-07 09:22:53</td>\n",
       "      <td>purchase</td>\n",
       "      <td>9.99</td>\n",
       "    </tr>\n",
       "    <tr>\n",
       "      <th>2</th>\n",
       "      <td>9CD9F34546DF254C</td>\n",
       "      <td>2020-12-07 12:59:29</td>\n",
       "      <td>purchase</td>\n",
       "      <td>4.99</td>\n",
       "    </tr>\n",
       "    <tr>\n",
       "      <th>3</th>\n",
       "      <td>96F27A054B191457</td>\n",
       "      <td>2020-12-07 04:02:40</td>\n",
       "      <td>purchase</td>\n",
       "      <td>4.99</td>\n",
       "    </tr>\n",
       "    <tr>\n",
       "      <th>4</th>\n",
       "      <td>1FD7660FDF94CA1F</td>\n",
       "      <td>2020-12-07 10:15:09</td>\n",
       "      <td>purchase</td>\n",
       "      <td>4.99</td>\n",
       "    </tr>\n",
       "  </tbody>\n",
       "</table>\n",
       "</div>"
      ],
      "text/plain": [
       "            user_id             event_dt event_name  details\n",
       "0  E1BDDCE0DAFA2679  2020-12-07 20:22:03   purchase    99.99\n",
       "1  7B6452F081F49504  2020-12-07 09:22:53   purchase     9.99\n",
       "2  9CD9F34546DF254C  2020-12-07 12:59:29   purchase     4.99\n",
       "3  96F27A054B191457  2020-12-07 04:02:40   purchase     4.99\n",
       "4  1FD7660FDF94CA1F  2020-12-07 10:15:09   purchase     4.99"
      ]
     },
     "metadata": {},
     "output_type": "display_data"
    },
    {
     "data": {
      "text/html": [
       "<div>\n",
       "<style scoped>\n",
       "    .dataframe tbody tr th:only-of-type {\n",
       "        vertical-align: middle;\n",
       "    }\n",
       "\n",
       "    .dataframe tbody tr th {\n",
       "        vertical-align: top;\n",
       "    }\n",
       "\n",
       "    .dataframe thead th {\n",
       "        text-align: right;\n",
       "    }\n",
       "</style>\n",
       "<table border=\"1\" class=\"dataframe\">\n",
       "  <thead>\n",
       "    <tr style=\"text-align: right;\">\n",
       "      <th></th>\n",
       "      <th>details</th>\n",
       "    </tr>\n",
       "  </thead>\n",
       "  <tbody>\n",
       "    <tr>\n",
       "      <th>count</th>\n",
       "      <td>62740.000000</td>\n",
       "    </tr>\n",
       "    <tr>\n",
       "      <th>mean</th>\n",
       "      <td>23.877631</td>\n",
       "    </tr>\n",
       "    <tr>\n",
       "      <th>std</th>\n",
       "      <td>72.180465</td>\n",
       "    </tr>\n",
       "    <tr>\n",
       "      <th>min</th>\n",
       "      <td>4.990000</td>\n",
       "    </tr>\n",
       "    <tr>\n",
       "      <th>25%</th>\n",
       "      <td>4.990000</td>\n",
       "    </tr>\n",
       "    <tr>\n",
       "      <th>50%</th>\n",
       "      <td>4.990000</td>\n",
       "    </tr>\n",
       "    <tr>\n",
       "      <th>75%</th>\n",
       "      <td>9.990000</td>\n",
       "    </tr>\n",
       "    <tr>\n",
       "      <th>max</th>\n",
       "      <td>499.990000</td>\n",
       "    </tr>\n",
       "  </tbody>\n",
       "</table>\n",
       "</div>"
      ],
      "text/plain": [
       "            details\n",
       "count  62740.000000\n",
       "mean      23.877631\n",
       "std       72.180465\n",
       "min        4.990000\n",
       "25%        4.990000\n",
       "50%        4.990000\n",
       "75%        9.990000\n",
       "max      499.990000"
      ]
     },
     "metadata": {},
     "output_type": "display_data"
    },
    {
     "name": "stdout",
     "output_type": "stream",
     "text": [
      "Уникальные значения для каждого столбца\n"
     ]
    },
    {
     "data": {
      "text/plain": [
       "user_id        58703\n",
       "event_dt      267268\n",
       "event_name         4\n",
       "details            4\n",
       "dtype: int64"
      ]
     },
     "metadata": {},
     "output_type": "display_data"
    },
    {
     "name": "stdout",
     "output_type": "stream",
     "text": [
      "<class 'pandas.core.frame.DataFrame'>\n",
      "RangeIndex: 440317 entries, 0 to 440316\n",
      "Data columns (total 4 columns):\n",
      " #   Column      Non-Null Count   Dtype  \n",
      "---  ------      --------------   -----  \n",
      " 0   user_id     440317 non-null  object \n",
      " 1   event_dt    440317 non-null  object \n",
      " 2   event_name  440317 non-null  object \n",
      " 3   details     62740 non-null   float64\n",
      "dtypes: float64(1), object(3)\n",
      "memory usage: 13.4+ MB\n"
     ]
    }
   ],
   "source": [
    "analysis_df(events_data)"
   ]
  },
  {
   "cell_type": "markdown",
   "id": "a8a38f90",
   "metadata": {},
   "source": [
    "Есть пропущенные значения в столбце details"
   ]
  },
  {
   "cell_type": "code",
   "execution_count": 5,
   "id": "6e884a6d",
   "metadata": {},
   "outputs": [
    {
     "name": "stdout",
     "output_type": "stream",
     "text": [
      "Количество стобцов: 3\n",
      "Количество строк: 18268\n"
     ]
    },
    {
     "data": {
      "text/html": [
       "<div>\n",
       "<style scoped>\n",
       "    .dataframe tbody tr th:only-of-type {\n",
       "        vertical-align: middle;\n",
       "    }\n",
       "\n",
       "    .dataframe tbody tr th {\n",
       "        vertical-align: top;\n",
       "    }\n",
       "\n",
       "    .dataframe thead th {\n",
       "        text-align: right;\n",
       "    }\n",
       "</style>\n",
       "<table border=\"1\" class=\"dataframe\">\n",
       "  <thead>\n",
       "    <tr style=\"text-align: right;\">\n",
       "      <th></th>\n",
       "      <th>user_id</th>\n",
       "      <th>group</th>\n",
       "      <th>ab_test</th>\n",
       "    </tr>\n",
       "  </thead>\n",
       "  <tbody>\n",
       "    <tr>\n",
       "      <th>0</th>\n",
       "      <td>D1ABA3E2887B6A73</td>\n",
       "      <td>A</td>\n",
       "      <td>recommender_system_test</td>\n",
       "    </tr>\n",
       "    <tr>\n",
       "      <th>1</th>\n",
       "      <td>A7A3664BD6242119</td>\n",
       "      <td>A</td>\n",
       "      <td>recommender_system_test</td>\n",
       "    </tr>\n",
       "    <tr>\n",
       "      <th>2</th>\n",
       "      <td>DABC14FDDFADD29E</td>\n",
       "      <td>A</td>\n",
       "      <td>recommender_system_test</td>\n",
       "    </tr>\n",
       "    <tr>\n",
       "      <th>3</th>\n",
       "      <td>04988C5DF189632E</td>\n",
       "      <td>A</td>\n",
       "      <td>recommender_system_test</td>\n",
       "    </tr>\n",
       "    <tr>\n",
       "      <th>4</th>\n",
       "      <td>482F14783456D21B</td>\n",
       "      <td>B</td>\n",
       "      <td>recommender_system_test</td>\n",
       "    </tr>\n",
       "  </tbody>\n",
       "</table>\n",
       "</div>"
      ],
      "text/plain": [
       "            user_id group                  ab_test\n",
       "0  D1ABA3E2887B6A73     A  recommender_system_test\n",
       "1  A7A3664BD6242119     A  recommender_system_test\n",
       "2  DABC14FDDFADD29E     A  recommender_system_test\n",
       "3  04988C5DF189632E     A  recommender_system_test\n",
       "4  482F14783456D21B     B  recommender_system_test"
      ]
     },
     "metadata": {},
     "output_type": "display_data"
    },
    {
     "data": {
      "text/html": [
       "<div>\n",
       "<style scoped>\n",
       "    .dataframe tbody tr th:only-of-type {\n",
       "        vertical-align: middle;\n",
       "    }\n",
       "\n",
       "    .dataframe tbody tr th {\n",
       "        vertical-align: top;\n",
       "    }\n",
       "\n",
       "    .dataframe thead th {\n",
       "        text-align: right;\n",
       "    }\n",
       "</style>\n",
       "<table border=\"1\" class=\"dataframe\">\n",
       "  <thead>\n",
       "    <tr style=\"text-align: right;\">\n",
       "      <th></th>\n",
       "      <th>user_id</th>\n",
       "      <th>group</th>\n",
       "      <th>ab_test</th>\n",
       "    </tr>\n",
       "  </thead>\n",
       "  <tbody>\n",
       "    <tr>\n",
       "      <th>count</th>\n",
       "      <td>18268</td>\n",
       "      <td>18268</td>\n",
       "      <td>18268</td>\n",
       "    </tr>\n",
       "    <tr>\n",
       "      <th>unique</th>\n",
       "      <td>16666</td>\n",
       "      <td>2</td>\n",
       "      <td>2</td>\n",
       "    </tr>\n",
       "    <tr>\n",
       "      <th>top</th>\n",
       "      <td>0FDFDA0B2DEC2D91</td>\n",
       "      <td>A</td>\n",
       "      <td>interface_eu_test</td>\n",
       "    </tr>\n",
       "    <tr>\n",
       "      <th>freq</th>\n",
       "      <td>2</td>\n",
       "      <td>9655</td>\n",
       "      <td>11567</td>\n",
       "    </tr>\n",
       "  </tbody>\n",
       "</table>\n",
       "</div>"
      ],
      "text/plain": [
       "                 user_id  group            ab_test\n",
       "count              18268  18268              18268\n",
       "unique             16666      2                  2\n",
       "top     0FDFDA0B2DEC2D91      A  interface_eu_test\n",
       "freq                   2   9655              11567"
      ]
     },
     "metadata": {},
     "output_type": "display_data"
    },
    {
     "name": "stdout",
     "output_type": "stream",
     "text": [
      "Уникальные значения для каждого столбца\n"
     ]
    },
    {
     "data": {
      "text/plain": [
       "user_id    16666\n",
       "group          2\n",
       "ab_test        2\n",
       "dtype: int64"
      ]
     },
     "metadata": {},
     "output_type": "display_data"
    },
    {
     "name": "stdout",
     "output_type": "stream",
     "text": [
      "<class 'pandas.core.frame.DataFrame'>\n",
      "RangeIndex: 18268 entries, 0 to 18267\n",
      "Data columns (total 3 columns):\n",
      " #   Column   Non-Null Count  Dtype \n",
      "---  ------   --------------  ----- \n",
      " 0   user_id  18268 non-null  object\n",
      " 1   group    18268 non-null  object\n",
      " 2   ab_test  18268 non-null  object\n",
      "dtypes: object(3)\n",
      "memory usage: 428.3+ KB\n"
     ]
    }
   ],
   "source": [
    "analysis_df(participants_data)"
   ]
  },
  {
   "cell_type": "markdown",
   "id": "4ea7e110",
   "metadata": {},
   "source": [
    "Пропусков нет"
   ]
  },
  {
   "cell_type": "code",
   "execution_count": 6,
   "id": "ec537b9e",
   "metadata": {},
   "outputs": [
    {
     "name": "stdout",
     "output_type": "stream",
     "text": [
      "Количество стобцов: 4\n",
      "Количество строк: 14\n"
     ]
    },
    {
     "data": {
      "text/html": [
       "<div>\n",
       "<style scoped>\n",
       "    .dataframe tbody tr th:only-of-type {\n",
       "        vertical-align: middle;\n",
       "    }\n",
       "\n",
       "    .dataframe tbody tr th {\n",
       "        vertical-align: top;\n",
       "    }\n",
       "\n",
       "    .dataframe thead th {\n",
       "        text-align: right;\n",
       "    }\n",
       "</style>\n",
       "<table border=\"1\" class=\"dataframe\">\n",
       "  <thead>\n",
       "    <tr style=\"text-align: right;\">\n",
       "      <th></th>\n",
       "      <th>name</th>\n",
       "      <th>regions</th>\n",
       "      <th>start_dt</th>\n",
       "      <th>finish_dt</th>\n",
       "    </tr>\n",
       "  </thead>\n",
       "  <tbody>\n",
       "    <tr>\n",
       "      <th>0</th>\n",
       "      <td>Christmas&amp;New Year Promo</td>\n",
       "      <td>EU, N.America</td>\n",
       "      <td>2020-12-25</td>\n",
       "      <td>2021-01-03</td>\n",
       "    </tr>\n",
       "    <tr>\n",
       "      <th>1</th>\n",
       "      <td>St. Valentine's Day Giveaway</td>\n",
       "      <td>EU, CIS, APAC, N.America</td>\n",
       "      <td>2020-02-14</td>\n",
       "      <td>2020-02-16</td>\n",
       "    </tr>\n",
       "    <tr>\n",
       "      <th>2</th>\n",
       "      <td>St. Patric's Day Promo</td>\n",
       "      <td>EU, N.America</td>\n",
       "      <td>2020-03-17</td>\n",
       "      <td>2020-03-19</td>\n",
       "    </tr>\n",
       "    <tr>\n",
       "      <th>3</th>\n",
       "      <td>Easter Promo</td>\n",
       "      <td>EU, CIS, APAC, N.America</td>\n",
       "      <td>2020-04-12</td>\n",
       "      <td>2020-04-19</td>\n",
       "    </tr>\n",
       "    <tr>\n",
       "      <th>4</th>\n",
       "      <td>4th of July Promo</td>\n",
       "      <td>N.America</td>\n",
       "      <td>2020-07-04</td>\n",
       "      <td>2020-07-11</td>\n",
       "    </tr>\n",
       "  </tbody>\n",
       "</table>\n",
       "</div>"
      ],
      "text/plain": [
       "                           name                   regions    start_dt  \\\n",
       "0      Christmas&New Year Promo             EU, N.America  2020-12-25   \n",
       "1  St. Valentine's Day Giveaway  EU, CIS, APAC, N.America  2020-02-14   \n",
       "2        St. Patric's Day Promo             EU, N.America  2020-03-17   \n",
       "3                  Easter Promo  EU, CIS, APAC, N.America  2020-04-12   \n",
       "4             4th of July Promo                 N.America  2020-07-04   \n",
       "\n",
       "    finish_dt  \n",
       "0  2021-01-03  \n",
       "1  2020-02-16  \n",
       "2  2020-03-19  \n",
       "3  2020-04-19  \n",
       "4  2020-07-11  "
      ]
     },
     "metadata": {},
     "output_type": "display_data"
    },
    {
     "data": {
      "text/html": [
       "<div>\n",
       "<style scoped>\n",
       "    .dataframe tbody tr th:only-of-type {\n",
       "        vertical-align: middle;\n",
       "    }\n",
       "\n",
       "    .dataframe tbody tr th {\n",
       "        vertical-align: top;\n",
       "    }\n",
       "\n",
       "    .dataframe thead th {\n",
       "        text-align: right;\n",
       "    }\n",
       "</style>\n",
       "<table border=\"1\" class=\"dataframe\">\n",
       "  <thead>\n",
       "    <tr style=\"text-align: right;\">\n",
       "      <th></th>\n",
       "      <th>name</th>\n",
       "      <th>regions</th>\n",
       "      <th>start_dt</th>\n",
       "      <th>finish_dt</th>\n",
       "    </tr>\n",
       "  </thead>\n",
       "  <tbody>\n",
       "    <tr>\n",
       "      <th>count</th>\n",
       "      <td>14</td>\n",
       "      <td>14</td>\n",
       "      <td>14</td>\n",
       "      <td>14</td>\n",
       "    </tr>\n",
       "    <tr>\n",
       "      <th>unique</th>\n",
       "      <td>14</td>\n",
       "      <td>6</td>\n",
       "      <td>14</td>\n",
       "      <td>14</td>\n",
       "    </tr>\n",
       "    <tr>\n",
       "      <th>top</th>\n",
       "      <td>Christmas&amp;New Year Promo</td>\n",
       "      <td>APAC</td>\n",
       "      <td>2020-12-25</td>\n",
       "      <td>2021-01-03</td>\n",
       "    </tr>\n",
       "    <tr>\n",
       "      <th>freq</th>\n",
       "      <td>1</td>\n",
       "      <td>4</td>\n",
       "      <td>1</td>\n",
       "      <td>1</td>\n",
       "    </tr>\n",
       "  </tbody>\n",
       "</table>\n",
       "</div>"
      ],
      "text/plain": [
       "                            name regions    start_dt   finish_dt\n",
       "count                         14      14          14          14\n",
       "unique                        14       6          14          14\n",
       "top     Christmas&New Year Promo    APAC  2020-12-25  2021-01-03\n",
       "freq                           1       4           1           1"
      ]
     },
     "metadata": {},
     "output_type": "display_data"
    },
    {
     "name": "stdout",
     "output_type": "stream",
     "text": [
      "Уникальные значения для каждого столбца\n"
     ]
    },
    {
     "data": {
      "text/plain": [
       "name         14\n",
       "regions       6\n",
       "start_dt     14\n",
       "finish_dt    14\n",
       "dtype: int64"
      ]
     },
     "metadata": {},
     "output_type": "display_data"
    },
    {
     "name": "stdout",
     "output_type": "stream",
     "text": [
      "<class 'pandas.core.frame.DataFrame'>\n",
      "RangeIndex: 14 entries, 0 to 13\n",
      "Data columns (total 4 columns):\n",
      " #   Column     Non-Null Count  Dtype \n",
      "---  ------     --------------  ----- \n",
      " 0   name       14 non-null     object\n",
      " 1   regions    14 non-null     object\n",
      " 2   start_dt   14 non-null     object\n",
      " 3   finish_dt  14 non-null     object\n",
      "dtypes: object(4)\n",
      "memory usage: 576.0+ bytes\n"
     ]
    }
   ],
   "source": [
    "analysis_df(marketing_events_data)"
   ]
  },
  {
   "cell_type": "markdown",
   "id": "3fc73c48",
   "metadata": {},
   "source": [
    "Пропусков нет"
   ]
  },
  {
   "cell_type": "code",
   "execution_count": 7,
   "id": "743eab7f",
   "metadata": {},
   "outputs": [
    {
     "name": "stdout",
     "output_type": "stream",
     "text": [
      "Количество стобцов: 4\n",
      "Количество строк: 61733\n"
     ]
    },
    {
     "data": {
      "text/html": [
       "<div>\n",
       "<style scoped>\n",
       "    .dataframe tbody tr th:only-of-type {\n",
       "        vertical-align: middle;\n",
       "    }\n",
       "\n",
       "    .dataframe tbody tr th {\n",
       "        vertical-align: top;\n",
       "    }\n",
       "\n",
       "    .dataframe thead th {\n",
       "        text-align: right;\n",
       "    }\n",
       "</style>\n",
       "<table border=\"1\" class=\"dataframe\">\n",
       "  <thead>\n",
       "    <tr style=\"text-align: right;\">\n",
       "      <th></th>\n",
       "      <th>user_id</th>\n",
       "      <th>first_date</th>\n",
       "      <th>region</th>\n",
       "      <th>device</th>\n",
       "    </tr>\n",
       "  </thead>\n",
       "  <tbody>\n",
       "    <tr>\n",
       "      <th>0</th>\n",
       "      <td>D72A72121175D8BE</td>\n",
       "      <td>2020-12-07</td>\n",
       "      <td>EU</td>\n",
       "      <td>PC</td>\n",
       "    </tr>\n",
       "    <tr>\n",
       "      <th>1</th>\n",
       "      <td>F1C668619DFE6E65</td>\n",
       "      <td>2020-12-07</td>\n",
       "      <td>N.America</td>\n",
       "      <td>Android</td>\n",
       "    </tr>\n",
       "    <tr>\n",
       "      <th>2</th>\n",
       "      <td>2E1BF1D4C37EA01F</td>\n",
       "      <td>2020-12-07</td>\n",
       "      <td>EU</td>\n",
       "      <td>PC</td>\n",
       "    </tr>\n",
       "    <tr>\n",
       "      <th>3</th>\n",
       "      <td>50734A22C0C63768</td>\n",
       "      <td>2020-12-07</td>\n",
       "      <td>EU</td>\n",
       "      <td>iPhone</td>\n",
       "    </tr>\n",
       "    <tr>\n",
       "      <th>4</th>\n",
       "      <td>E1BDDCE0DAFA2679</td>\n",
       "      <td>2020-12-07</td>\n",
       "      <td>N.America</td>\n",
       "      <td>iPhone</td>\n",
       "    </tr>\n",
       "  </tbody>\n",
       "</table>\n",
       "</div>"
      ],
      "text/plain": [
       "            user_id  first_date     region   device\n",
       "0  D72A72121175D8BE  2020-12-07         EU       PC\n",
       "1  F1C668619DFE6E65  2020-12-07  N.America  Android\n",
       "2  2E1BF1D4C37EA01F  2020-12-07         EU       PC\n",
       "3  50734A22C0C63768  2020-12-07         EU   iPhone\n",
       "4  E1BDDCE0DAFA2679  2020-12-07  N.America   iPhone"
      ]
     },
     "metadata": {},
     "output_type": "display_data"
    },
    {
     "data": {
      "text/html": [
       "<div>\n",
       "<style scoped>\n",
       "    .dataframe tbody tr th:only-of-type {\n",
       "        vertical-align: middle;\n",
       "    }\n",
       "\n",
       "    .dataframe tbody tr th {\n",
       "        vertical-align: top;\n",
       "    }\n",
       "\n",
       "    .dataframe thead th {\n",
       "        text-align: right;\n",
       "    }\n",
       "</style>\n",
       "<table border=\"1\" class=\"dataframe\">\n",
       "  <thead>\n",
       "    <tr style=\"text-align: right;\">\n",
       "      <th></th>\n",
       "      <th>user_id</th>\n",
       "      <th>first_date</th>\n",
       "      <th>region</th>\n",
       "      <th>device</th>\n",
       "    </tr>\n",
       "  </thead>\n",
       "  <tbody>\n",
       "    <tr>\n",
       "      <th>count</th>\n",
       "      <td>61733</td>\n",
       "      <td>61733</td>\n",
       "      <td>61733</td>\n",
       "      <td>61733</td>\n",
       "    </tr>\n",
       "    <tr>\n",
       "      <th>unique</th>\n",
       "      <td>61733</td>\n",
       "      <td>17</td>\n",
       "      <td>4</td>\n",
       "      <td>4</td>\n",
       "    </tr>\n",
       "    <tr>\n",
       "      <th>top</th>\n",
       "      <td>D72A72121175D8BE</td>\n",
       "      <td>2020-12-21</td>\n",
       "      <td>EU</td>\n",
       "      <td>Android</td>\n",
       "    </tr>\n",
       "    <tr>\n",
       "      <th>freq</th>\n",
       "      <td>1</td>\n",
       "      <td>6290</td>\n",
       "      <td>46270</td>\n",
       "      <td>27520</td>\n",
       "    </tr>\n",
       "  </tbody>\n",
       "</table>\n",
       "</div>"
      ],
      "text/plain": [
       "                 user_id  first_date region   device\n",
       "count              61733       61733  61733    61733\n",
       "unique             61733          17      4        4\n",
       "top     D72A72121175D8BE  2020-12-21     EU  Android\n",
       "freq                   1        6290  46270    27520"
      ]
     },
     "metadata": {},
     "output_type": "display_data"
    },
    {
     "name": "stdout",
     "output_type": "stream",
     "text": [
      "Уникальные значения для каждого столбца\n"
     ]
    },
    {
     "data": {
      "text/plain": [
       "user_id       61733\n",
       "first_date       17\n",
       "region            4\n",
       "device            4\n",
       "dtype: int64"
      ]
     },
     "metadata": {},
     "output_type": "display_data"
    },
    {
     "name": "stdout",
     "output_type": "stream",
     "text": [
      "<class 'pandas.core.frame.DataFrame'>\n",
      "RangeIndex: 61733 entries, 0 to 61732\n",
      "Data columns (total 4 columns):\n",
      " #   Column      Non-Null Count  Dtype \n",
      "---  ------      --------------  ----- \n",
      " 0   user_id     61733 non-null  object\n",
      " 1   first_date  61733 non-null  object\n",
      " 2   region      61733 non-null  object\n",
      " 3   device      61733 non-null  object\n",
      "dtypes: object(4)\n",
      "memory usage: 1.9+ MB\n"
     ]
    }
   ],
   "source": [
    "analysis_df(new_users_data)"
   ]
  },
  {
   "cell_type": "markdown",
   "id": "0158c201",
   "metadata": {},
   "source": [
    "Пропусков нет"
   ]
  },
  {
   "cell_type": "markdown",
   "id": "490c8a63",
   "metadata": {},
   "source": [
    "Сделаем преобразование типов данных в датасетах: в столбцах с датой и временем событий меняем тип столбцов object на datatime"
   ]
  },
  {
   "cell_type": "code",
   "execution_count": 8,
   "id": "4405ad95",
   "metadata": {},
   "outputs": [],
   "source": [
    "events_data['event_dt'] = pd.to_datetime(events_data['event_dt'])\n",
    "marketing_events_data['start_dt'] = pd.to_datetime(marketing_events_data['start_dt'])\n",
    "marketing_events_data['finish_dt'] = pd.to_datetime(marketing_events_data['finish_dt'])\n",
    "new_users_data['first_date'] = pd.to_datetime(new_users_data['first_date'])"
   ]
  },
  {
   "cell_type": "code",
   "execution_count": 9,
   "id": "a16f74dc",
   "metadata": {},
   "outputs": [
    {
     "name": "stdout",
     "output_type": "stream",
     "text": [
      "<class 'pandas.core.frame.DataFrame'>\n",
      "RangeIndex: 440317 entries, 0 to 440316\n",
      "Data columns (total 4 columns):\n",
      " #   Column      Non-Null Count   Dtype         \n",
      "---  ------      --------------   -----         \n",
      " 0   user_id     440317 non-null  object        \n",
      " 1   event_dt    440317 non-null  datetime64[ns]\n",
      " 2   event_name  440317 non-null  object        \n",
      " 3   details     62740 non-null   float64       \n",
      "dtypes: datetime64[ns](1), float64(1), object(2)\n",
      "memory usage: 13.4+ MB\n"
     ]
    },
    {
     "data": {
      "text/plain": [
       "None"
      ]
     },
     "metadata": {},
     "output_type": "display_data"
    },
    {
     "name": "stdout",
     "output_type": "stream",
     "text": [
      "\n",
      "<class 'pandas.core.frame.DataFrame'>\n",
      "RangeIndex: 14 entries, 0 to 13\n",
      "Data columns (total 4 columns):\n",
      " #   Column     Non-Null Count  Dtype         \n",
      "---  ------     --------------  -----         \n",
      " 0   name       14 non-null     object        \n",
      " 1   regions    14 non-null     object        \n",
      " 2   start_dt   14 non-null     datetime64[ns]\n",
      " 3   finish_dt  14 non-null     datetime64[ns]\n",
      "dtypes: datetime64[ns](2), object(2)\n",
      "memory usage: 576.0+ bytes\n"
     ]
    },
    {
     "data": {
      "text/plain": [
       "None"
      ]
     },
     "metadata": {},
     "output_type": "display_data"
    },
    {
     "name": "stdout",
     "output_type": "stream",
     "text": [
      "\n",
      "<class 'pandas.core.frame.DataFrame'>\n",
      "RangeIndex: 61733 entries, 0 to 61732\n",
      "Data columns (total 4 columns):\n",
      " #   Column      Non-Null Count  Dtype         \n",
      "---  ------      --------------  -----         \n",
      " 0   user_id     61733 non-null  object        \n",
      " 1   first_date  61733 non-null  datetime64[ns]\n",
      " 2   region      61733 non-null  object        \n",
      " 3   device      61733 non-null  object        \n",
      "dtypes: datetime64[ns](1), object(3)\n",
      "memory usage: 1.9+ MB\n"
     ]
    },
    {
     "data": {
      "text/plain": [
       "None"
      ]
     },
     "metadata": {},
     "output_type": "display_data"
    }
   ],
   "source": [
    "# Проверка типов данных\n",
    "display(events_data.info())\n",
    "print()\n",
    "display(marketing_events_data.info())\n",
    "print()\n",
    "display(new_users_data.info())"
   ]
  },
  {
   "cell_type": "markdown",
   "id": "34c62ca7",
   "metadata": {},
   "source": [
    "Проверка на дубликаты"
   ]
  },
  {
   "cell_type": "code",
   "execution_count": 10,
   "id": "de7a31e4",
   "metadata": {},
   "outputs": [
    {
     "name": "stdout",
     "output_type": "stream",
     "text": [
      "0\n",
      "0\n",
      "0\n",
      "0\n"
     ]
    }
   ],
   "source": [
    "print(events_data.duplicated().sum())\n",
    "print(marketing_events_data.duplicated().sum())\n",
    "print(participants_data.duplicated().sum())\n",
    "print(new_users_data.duplicated().sum())"
   ]
  },
  {
   "cell_type": "markdown",
   "id": "4fe5bcb4",
   "metadata": {},
   "source": [
    "Дубликаты не обнаружены"
   ]
  },
  {
   "cell_type": "markdown",
   "id": "97aac8c7",
   "metadata": {},
   "source": [
    "Вывод: пропуски есть только в одном столбце, но заполнять их не следует, потому что нет никакой закономерности или дополнительный сведений, по которым можно было бы их заполнить, дубликатов по строке не обнаружено, хотя дубликаты по user_id имеются\n",
    "\n",
    "Можно приступать к следующему шагу"
   ]
  },
  {
   "cell_type": "markdown",
   "id": "baf094fd",
   "metadata": {},
   "source": [
    "### Оценка коректности проведения теста"
   ]
  },
  {
   "cell_type": "markdown",
   "id": "bfed338c",
   "metadata": {},
   "source": [
    "Для упрощения объединим 3 датасета в один по столбцу id"
   ]
  },
  {
   "cell_type": "code",
   "execution_count": 11,
   "id": "18801979",
   "metadata": {},
   "outputs": [],
   "source": [
    "merged_data = events_data.merge(participants_data, on='user_id').merge(new_users_data, on='user_id')"
   ]
  },
  {
   "cell_type": "code",
   "execution_count": 12,
   "id": "f8efec14",
   "metadata": {},
   "outputs": [
    {
     "name": "stdout",
     "output_type": "stream",
     "text": [
      "Количество стобцов: 9\n",
      "Количество строк: 106625\n"
     ]
    },
    {
     "data": {
      "text/html": [
       "<div>\n",
       "<style scoped>\n",
       "    .dataframe tbody tr th:only-of-type {\n",
       "        vertical-align: middle;\n",
       "    }\n",
       "\n",
       "    .dataframe tbody tr th {\n",
       "        vertical-align: top;\n",
       "    }\n",
       "\n",
       "    .dataframe thead th {\n",
       "        text-align: right;\n",
       "    }\n",
       "</style>\n",
       "<table border=\"1\" class=\"dataframe\">\n",
       "  <thead>\n",
       "    <tr style=\"text-align: right;\">\n",
       "      <th></th>\n",
       "      <th>user_id</th>\n",
       "      <th>event_dt</th>\n",
       "      <th>event_name</th>\n",
       "      <th>details</th>\n",
       "      <th>group</th>\n",
       "      <th>ab_test</th>\n",
       "      <th>first_date</th>\n",
       "      <th>region</th>\n",
       "      <th>device</th>\n",
       "    </tr>\n",
       "  </thead>\n",
       "  <tbody>\n",
       "    <tr>\n",
       "      <th>0</th>\n",
       "      <td>96F27A054B191457</td>\n",
       "      <td>2020-12-07 04:02:40</td>\n",
       "      <td>purchase</td>\n",
       "      <td>4.99</td>\n",
       "      <td>B</td>\n",
       "      <td>interface_eu_test</td>\n",
       "      <td>2020-12-07</td>\n",
       "      <td>EU</td>\n",
       "      <td>iPhone</td>\n",
       "    </tr>\n",
       "    <tr>\n",
       "      <th>1</th>\n",
       "      <td>96F27A054B191457</td>\n",
       "      <td>2020-12-08 09:43:14</td>\n",
       "      <td>purchase</td>\n",
       "      <td>4.99</td>\n",
       "      <td>B</td>\n",
       "      <td>interface_eu_test</td>\n",
       "      <td>2020-12-07</td>\n",
       "      <td>EU</td>\n",
       "      <td>iPhone</td>\n",
       "    </tr>\n",
       "    <tr>\n",
       "      <th>2</th>\n",
       "      <td>96F27A054B191457</td>\n",
       "      <td>2020-12-09 00:44:10</td>\n",
       "      <td>purchase</td>\n",
       "      <td>4.99</td>\n",
       "      <td>B</td>\n",
       "      <td>interface_eu_test</td>\n",
       "      <td>2020-12-07</td>\n",
       "      <td>EU</td>\n",
       "      <td>iPhone</td>\n",
       "    </tr>\n",
       "    <tr>\n",
       "      <th>3</th>\n",
       "      <td>96F27A054B191457</td>\n",
       "      <td>2020-12-26 00:33:57</td>\n",
       "      <td>purchase</td>\n",
       "      <td>9.99</td>\n",
       "      <td>B</td>\n",
       "      <td>interface_eu_test</td>\n",
       "      <td>2020-12-07</td>\n",
       "      <td>EU</td>\n",
       "      <td>iPhone</td>\n",
       "    </tr>\n",
       "    <tr>\n",
       "      <th>4</th>\n",
       "      <td>96F27A054B191457</td>\n",
       "      <td>2020-12-07 04:02:41</td>\n",
       "      <td>product_page</td>\n",
       "      <td>NaN</td>\n",
       "      <td>B</td>\n",
       "      <td>interface_eu_test</td>\n",
       "      <td>2020-12-07</td>\n",
       "      <td>EU</td>\n",
       "      <td>iPhone</td>\n",
       "    </tr>\n",
       "  </tbody>\n",
       "</table>\n",
       "</div>"
      ],
      "text/plain": [
       "            user_id            event_dt    event_name  details group  \\\n",
       "0  96F27A054B191457 2020-12-07 04:02:40      purchase     4.99     B   \n",
       "1  96F27A054B191457 2020-12-08 09:43:14      purchase     4.99     B   \n",
       "2  96F27A054B191457 2020-12-09 00:44:10      purchase     4.99     B   \n",
       "3  96F27A054B191457 2020-12-26 00:33:57      purchase     9.99     B   \n",
       "4  96F27A054B191457 2020-12-07 04:02:41  product_page      NaN     B   \n",
       "\n",
       "             ab_test first_date region  device  \n",
       "0  interface_eu_test 2020-12-07     EU  iPhone  \n",
       "1  interface_eu_test 2020-12-07     EU  iPhone  \n",
       "2  interface_eu_test 2020-12-07     EU  iPhone  \n",
       "3  interface_eu_test 2020-12-07     EU  iPhone  \n",
       "4  interface_eu_test 2020-12-07     EU  iPhone  "
      ]
     },
     "metadata": {},
     "output_type": "display_data"
    },
    {
     "data": {
      "text/html": [
       "<div>\n",
       "<style scoped>\n",
       "    .dataframe tbody tr th:only-of-type {\n",
       "        vertical-align: middle;\n",
       "    }\n",
       "\n",
       "    .dataframe tbody tr th {\n",
       "        vertical-align: top;\n",
       "    }\n",
       "\n",
       "    .dataframe thead th {\n",
       "        text-align: right;\n",
       "    }\n",
       "</style>\n",
       "<table border=\"1\" class=\"dataframe\">\n",
       "  <thead>\n",
       "    <tr style=\"text-align: right;\">\n",
       "      <th></th>\n",
       "      <th>details</th>\n",
       "    </tr>\n",
       "  </thead>\n",
       "  <tbody>\n",
       "    <tr>\n",
       "      <th>count</th>\n",
       "      <td>15416.000000</td>\n",
       "    </tr>\n",
       "    <tr>\n",
       "      <th>mean</th>\n",
       "      <td>23.742595</td>\n",
       "    </tr>\n",
       "    <tr>\n",
       "      <th>std</th>\n",
       "      <td>72.216029</td>\n",
       "    </tr>\n",
       "    <tr>\n",
       "      <th>min</th>\n",
       "      <td>4.990000</td>\n",
       "    </tr>\n",
       "    <tr>\n",
       "      <th>25%</th>\n",
       "      <td>4.990000</td>\n",
       "    </tr>\n",
       "    <tr>\n",
       "      <th>50%</th>\n",
       "      <td>4.990000</td>\n",
       "    </tr>\n",
       "    <tr>\n",
       "      <th>75%</th>\n",
       "      <td>9.990000</td>\n",
       "    </tr>\n",
       "    <tr>\n",
       "      <th>max</th>\n",
       "      <td>499.990000</td>\n",
       "    </tr>\n",
       "  </tbody>\n",
       "</table>\n",
       "</div>"
      ],
      "text/plain": [
       "            details\n",
       "count  15416.000000\n",
       "mean      23.742595\n",
       "std       72.216029\n",
       "min        4.990000\n",
       "25%        4.990000\n",
       "50%        4.990000\n",
       "75%        9.990000\n",
       "max      499.990000"
      ]
     },
     "metadata": {},
     "output_type": "display_data"
    },
    {
     "name": "stdout",
     "output_type": "stream",
     "text": [
      "Уникальные значения для каждого столбца\n"
     ]
    },
    {
     "data": {
      "text/plain": [
       "user_id       13638\n",
       "event_dt      64903\n",
       "event_name        4\n",
       "details           4\n",
       "group             2\n",
       "ab_test           2\n",
       "first_date       17\n",
       "region            4\n",
       "device            4\n",
       "dtype: int64"
      ]
     },
     "metadata": {},
     "output_type": "display_data"
    },
    {
     "name": "stdout",
     "output_type": "stream",
     "text": [
      "<class 'pandas.core.frame.DataFrame'>\n",
      "Int64Index: 106625 entries, 0 to 106624\n",
      "Data columns (total 9 columns):\n",
      " #   Column      Non-Null Count   Dtype         \n",
      "---  ------      --------------   -----         \n",
      " 0   user_id     106625 non-null  object        \n",
      " 1   event_dt    106625 non-null  datetime64[ns]\n",
      " 2   event_name  106625 non-null  object        \n",
      " 3   details     15416 non-null   float64       \n",
      " 4   group       106625 non-null  object        \n",
      " 5   ab_test     106625 non-null  object        \n",
      " 6   first_date  106625 non-null  datetime64[ns]\n",
      " 7   region      106625 non-null  object        \n",
      " 8   device      106625 non-null  object        \n",
      "dtypes: datetime64[ns](2), float64(1), object(6)\n",
      "memory usage: 8.1+ MB\n"
     ]
    },
    {
     "data": {
      "text/plain": [
       "None"
      ]
     },
     "metadata": {},
     "output_type": "display_data"
    },
    {
     "name": "stdout",
     "output_type": "stream",
     "text": [
      "Количество дубликатов: 0\n"
     ]
    }
   ],
   "source": [
    "display(analysis_df(merged_data))\n",
    "print('Количество дубликатов:', merged_data.duplicated().sum())"
   ]
  },
  {
   "cell_type": "markdown",
   "id": "875ca17e",
   "metadata": {},
   "source": [
    "1. Проверка названия теста"
   ]
  },
  {
   "cell_type": "code",
   "execution_count": 13,
   "id": "51090504",
   "metadata": {},
   "outputs": [
    {
     "name": "stdout",
     "output_type": "stream",
     "text": [
      "1. Название теста \"recommender_system_test\" соответствует требованиям.\n"
     ]
    }
   ],
   "source": [
    "test_name = 'recommender_system_test'\n",
    "if test_name in merged_data['ab_test'].unique():\n",
    "    print(f'1. Название теста \"{test_name}\" соответствует требованиям.')\n",
    "else:\n",
    "    print(f'1. Название теста \"{test_name}\" не соответствует требованиям.')"
   ]
  },
  {
   "cell_type": "markdown",
   "id": "6fe2772d",
   "metadata": {},
   "source": [
    "2. Проверка групп"
   ]
  },
  {
   "cell_type": "code",
   "execution_count": 14,
   "id": "2714c69d",
   "metadata": {},
   "outputs": [
    {
     "name": "stdout",
     "output_type": "stream",
     "text": [
      "2. Группы A и B обозначены корректно.\n"
     ]
    }
   ],
   "source": [
    "if set(merged_data['group'].unique()) == {'A', 'B'}:\n",
    "    print('2. Группы A и B обозначены корректно.')\n",
    "else:\n",
    "    print('2. Группы A и B не обозначены корректно.')"
   ]
  },
  {
   "cell_type": "markdown",
   "id": "9fb62d92",
   "metadata": {},
   "source": [
    "3. Проверка даты запуска"
   ]
  },
  {
   "cell_type": "code",
   "execution_count": 15,
   "id": "29da54eb",
   "metadata": {},
   "outputs": [
    {
     "name": "stdout",
     "output_type": "stream",
     "text": [
      "3. Дата запуска 2020-12-07 00:00:00 указана корректно.\n"
     ]
    }
   ],
   "source": [
    "start_date = pd.to_datetime('2020-12-07')\n",
    "if merged_data['first_date'].min() == start_date:\n",
    "    print(f'3. Дата запуска {start_date} указана корректно.')\n",
    "else:\n",
    "    print(f'3. Дата запуска не соответствует требованиям.')"
   ]
  },
  {
   "cell_type": "markdown",
   "id": "07728c5c",
   "metadata": {},
   "source": [
    "4. Проверка даты остановки набора новых пользователей"
   ]
  },
  {
   "cell_type": "code",
   "execution_count": 16,
   "id": "42d61730",
   "metadata": {},
   "outputs": [
    {
     "name": "stdout",
     "output_type": "stream",
     "text": [
      "4. Дата остановки набора новых пользователей не соответствует требованиям.\n",
      "Настоящая дата остановки набора новых пользователей\n",
      "2020-12-23 00:00:00\n"
     ]
    }
   ],
   "source": [
    "new_users_stop_date = pd.to_datetime('2020-12-21')\n",
    "if merged_data['first_date'].max() <= new_users_stop_date:\n",
    "    print(f'4. Дата остановки набора новых пользователей {new_users_stop_date} указана корректно.')\n",
    "else:\n",
    "    print(f'4. Дата остановки набора новых пользователей не соответствует требованиям.')\n",
    "    print('Настоящая дата остановки набора новых пользователей')\n",
    "    print(merged_data['first_date'].max())"
   ]
  },
  {
   "cell_type": "markdown",
   "id": "dbe9241c",
   "metadata": {},
   "source": [
    "5. Проверка даты остановки"
   ]
  },
  {
   "cell_type": "code",
   "execution_count": 17,
   "id": "aa69aa13",
   "metadata": {},
   "outputs": [
    {
     "name": "stdout",
     "output_type": "stream",
     "text": [
      "5. Дата остановки 2021-01-04 00:00:00 указана корректно.\n"
     ]
    }
   ],
   "source": [
    "stop_date = pd.to_datetime('2021-01-04')\n",
    "if merged_data['event_dt'].max() <= stop_date:\n",
    "    print(f'5. Дата остановки {stop_date} указана корректно.')\n",
    "else:\n",
    "    print(f'5. Дата остановки не соответствует требованиям.')\n",
    "    print(merged_data['event_dt'].max())"
   ]
  },
  {
   "cell_type": "markdown",
   "id": "36c86665",
   "metadata": {},
   "source": [
    "6. Проверка аудитории теста"
   ]
  },
  {
   "cell_type": "code",
   "execution_count": 18,
   "id": "3da262be",
   "metadata": {},
   "outputs": [
    {
     "name": "stdout",
     "output_type": "stream",
     "text": [
      "6. Тест был проведен среди 98.58% пользователей из региона EU.\n"
     ]
    }
   ],
   "source": [
    "# удалим дубликаты по id, чтобы избежать повторенией одних и тех же пользователей\n",
    "merged_data_x = merged_data.drop_duplicates(subset='user_id')\n",
    "\n",
    "eu_users_percentage = len(merged_data_x[merged_data_x['region'] == 'EU']) / len(merged_data_x) * 100\n",
    "if eu_users_percentage >= 15:\n",
    "    print(f'6. Тест был проведен среди {eu_users_percentage:.2f}% пользователей из региона EU.')\n",
    "else:\n",
    "    print(f'6. Аудитория теста не соответствует требованиям.')\n"
   ]
  },
  {
   "cell_type": "markdown",
   "id": "3e4b23dc",
   "metadata": {},
   "source": [
    "7. Проверка ожидаемого количества участников теста"
   ]
  },
  {
   "cell_type": "code",
   "execution_count": 19,
   "id": "1de11885",
   "metadata": {},
   "outputs": [
    {
     "name": "stdout",
     "output_type": "stream",
     "text": [
      "7. Ожидаемое количество участников теста удолвлетворяет требованиям, количество участников - 13638.\n"
     ]
    }
   ],
   "source": [
    "expected_participants = 6000\n",
    "actual_participants = len(merged_data_x)\n",
    "if actual_participants >= expected_participants:\n",
    "    print(f'7. Ожидаемое количество участников теста удолвлетворяет требованиям, количество участников - {actual_participants}.')\n",
    "else:\n",
    "    print(f'7. Ожидаемое количество участников теста не соответствует требованиям.')"
   ]
  },
  {
   "cell_type": "markdown",
   "id": "5c80261b",
   "metadata": {},
   "source": [
    "8. Проверка на время проведения теста"
   ]
  },
  {
   "cell_type": "code",
   "execution_count": 20,
   "id": "ccb5fa60",
   "metadata": {},
   "outputs": [
    {
     "name": "stdout",
     "output_type": "stream",
     "text": [
      "8. Внимание! Тест проводился в период пересечения с маркетинговыми или другими активностями:\n",
      "                         name        regions   start_dt  finish_dt\n",
      "0    Christmas&New Year Promo  EU, N.America 2020-12-25 2021-01-03\n",
      "10  CIS New Year Gift Lottery            CIS 2020-12-30 2021-01-07\n"
     ]
    }
   ],
   "source": [
    "test_start_date = merged_data['first_date'].min()\n",
    "test_end_date = merged_data['event_dt'].max()\n",
    "\n",
    "overlap_events = marketing_events_data[(marketing_events_data['start_dt'] <= test_end_date)\n",
    "                                  & (marketing_events_data['finish_dt'] >= test_start_date)]\n",
    "\n",
    "if overlap_events.empty:\n",
    "    print(\"8. Тест проведен без пересечения с маркетинговыми или другими активностями.\")\n",
    "else:\n",
    "    print(\"8. Внимание! Тест проводился в период пересечения с маркетинговыми или другими активностями:\")\n",
    "    print(overlap_events)"
   ]
  },
  {
   "cell_type": "markdown",
   "id": "d3f67d24",
   "metadata": {},
   "source": [
    "9. Проверка на участие пользователей в двух группах теста одновременно"
   ]
  },
  {
   "cell_type": "code",
   "execution_count": 21,
   "id": "ada59996",
   "metadata": {},
   "outputs": [
    {
     "name": "stdout",
     "output_type": "stream",
     "text": [
      "9. Внимание! Есть пользователи, участвующие в двух группах теста одновременно:\n",
      "user_id\n",
      "0082295A41A867B5    2\n",
      "00E68F103C66C1F7    2\n",
      "02313B9E82255F47    2\n",
      "04F2CF340B4F3822    2\n",
      "051D59BC38C3B3AA    2\n",
      "                   ..\n",
      "FE2AF0E94DBD470E    2\n",
      "FE8F9858BBE502D9    2\n",
      "FEA0C585A53E7027    2\n",
      "FEC0BCA6C323872F    2\n",
      "FFF28D02B1EACBE1    2\n",
      "Name: group, Length: 441, dtype: int64\n"
     ]
    }
   ],
   "source": [
    "users_in_multiple_groups = merged_data.groupby('user_id')['group'].nunique()\n",
    "users_in_multiple_groups = users_in_multiple_groups[users_in_multiple_groups > 1]\n",
    "\n",
    "if users_in_multiple_groups.empty:\n",
    "    print(\"9. Нет пользователей, участвующих в двух группах теста одновременно.\")\n",
    "else:\n",
    "    print(\"9. Внимание! Есть пользователи, участвующие в двух группах теста одновременно:\")\n",
    "    print(users_in_multiple_groups)"
   ]
  },
  {
   "cell_type": "markdown",
   "id": "1b1cceae",
   "metadata": {},
   "source": [
    "10. Проверка на равномерное распределение по тестовым группам"
   ]
  },
  {
   "cell_type": "code",
   "execution_count": 22,
   "id": "3c3364e9",
   "metadata": {},
   "outputs": [
    {
     "name": "stdout",
     "output_type": "stream",
     "text": [
      "Тестовые группы сформированы равномерно.\n"
     ]
    }
   ],
   "source": [
    "group_counts = merged_data['group'].value_counts()\n",
    "total_users = len(merged_data)\n",
    "\n",
    "if len(group_counts) == 2 and group_counts.min() >= total_users * 0.4 and group_counts.max() <= total_users * 0.6:\n",
    "    print(\"Тестовые группы сформированы равномерно.\")\n",
    "else:\n",
    "    print(\"Внимание! Тестовые группы сформированы неравномерно.\")"
   ]
  },
  {
   "cell_type": "markdown",
   "id": "27a7b47e",
   "metadata": {},
   "source": [
    "Вывод: Данные соответствуют техническому заданию, время теста совпадает совпадает с маркетинговыми и другими активностями, имеются люди, участвующие в обоих тестах сразу"
   ]
  },
  {
   "cell_type": "markdown",
   "id": "ec4ae49d",
   "metadata": {},
   "source": [
    "### Исследовательский анализ данных"
   ]
  },
  {
   "cell_type": "markdown",
   "id": "43d3860f",
   "metadata": {},
   "source": [
    "Распределение - количество событий на пользователя"
   ]
  },
  {
   "cell_type": "code",
   "execution_count": 23,
   "id": "ff0c4c32",
   "metadata": {},
   "outputs": [
    {
     "data": {
      "image/png": "[encoded data removed]",
      "text/plain": [
       "<Figure size 1000x600 with 1 Axes>"
      ]
     },
     "metadata": {},
     "output_type": "display_data"
    }
   ],
   "source": [
    "events_per_user = merged_data.groupby(['group', 'user_id'])['event_name'].count().reset_index()\n",
    "events_per_user.columns = ['group', 'user_id', 'events_count']\n",
    "\n",
    "plt.figure(figsize=(10, 6))\n",
    "sns.histplot(data=events_per_user, x='events_count', hue='group', bins=30, kde=True)\n",
    "plt.title('Распределение количества событий на пользователя в выборках')\n",
    "plt.xlabel('Количество событий на пользователя')\n",
    "plt.ylabel('Частота')\n",
    "plt.show()"
   ]
  },
  {
   "cell_type": "markdown",
   "id": "baa1a799",
   "metadata": {},
   "source": [
    "Как число событий в выборках распределено по дням"
   ]
  },
  {
   "cell_type": "code",
   "execution_count": 24,
   "id": "54b891de",
   "metadata": {},
   "outputs": [
    {
     "data": {
      "image/png": "[encoded data removed]",
      "text/plain": [
       "<Figure size 1600x900 with 1 Axes>"
      ]
     },
     "metadata": {},
     "output_type": "display_data"
    }
   ],
   "source": [
    "events_per_day = merged_data.groupby(['group', 'event_dt'])['event_name'].count().reset_index()\n",
    "events_per_day.columns = ['group', 'event_dt', 'events_count']\n",
    "\n",
    "\n",
    "plt.figure(figsize=(16, 9))\n",
    "sns.lineplot(data=events_per_day, x='event_dt', y='events_count', hue='group')\n",
    "plt.title('Распределение событий по дням в выборках')\n",
    "plt.xlabel('Дата')\n",
    "plt.ylabel('Количество событий')\n",
    "plt.xticks(rotation=45)\n",
    "plt.show()"
   ]
  },
  {
   "cell_type": "markdown",
   "id": "031d51ce",
   "metadata": {},
   "source": [
    "Как меняется конверсия в воронке в выборках на разных этапах"
   ]
  },
  {
   "cell_type": "code",
   "execution_count": 25,
   "id": "7b1a30d1",
   "metadata": {},
   "outputs": [
    {
     "data": {
      "image/png": "[encoded data removed]",
      "text/plain": [
       "<Figure size 1000x600 with 1 Axes>"
      ]
     },
     "metadata": {},
     "output_type": "display_data"
    }
   ],
   "source": [
    "funnel_steps = ['product_page', 'product_cart', 'purchase']\n",
    "funnel_data = merged_data[merged_data['event_name'].isin(funnel_steps)]\n",
    "\n",
    "funnel_grouped = funnel_data.groupby(['group', 'event_name'])['user_id'].nunique().reset_index()\n",
    "funnel_grouped.columns = ['group', 'event_name', 'users_count']\n",
    "\n",
    "funnel_grouped['conversion'] = funnel_grouped.groupby('group')['users_count'].transform(lambda x: x / x.iloc[0])\n",
    "\n",
    "plt.figure(figsize=(10, 6))\n",
    "sns.barplot(data=funnel_grouped, x='event_name', y='conversion', hue='group')\n",
    "plt.title('Конверсия в воронке на разных этапах')\n",
    "plt.xlabel('Этап воронки')\n",
    "plt.ylabel('Конверсия')\n",
    "plt.show()"
   ]
  },
  {
   "cell_type": "markdown",
   "id": "d7467e37",
   "metadata": {},
   "source": [
    "Какие особенности данных нужно учесть, прежде чем приступать к A/B-тестированию"
   ]
  },
  {
   "cell_type": "markdown",
   "id": "422b3bc9",
   "metadata": {},
   "source": [
    "1) Пропуски. Пропуски встречаются только в единственном столбце details, но их относительно много, но они некритичны, потому что это дополнительные данные, которые мало влияют на техническое задание\n",
    "\n",
    "2) Дубликатов нет\n",
    "\n",
    "3) Группы распределены равномерно\n",
    "\n",
    "4) Изолированность теста - тест проводится во время еще двух активностей, изолированность отсутствует (плохо)"
   ]
  },
  {
   "cell_type": "markdown",
   "id": "c3827b20",
   "metadata": {},
   "source": [
    "Вывод:\n",
    "\n",
    "1. Количество событиый на пользователя в выборках распределены по-разному, в выборке А событий больше\n",
    "2. Число событий по дням не меняется в зависимости от года, всегда примерно одинаковое количество событий. Смотря на выборки - количество событий из выборки А больше чем из выборки В\n",
    "3. Особенности данных учтены, можно приступать к A/B тестированию"
   ]
  },
  {
   "cell_type": "markdown",
   "id": "1e77bd7d",
   "metadata": {},
   "source": [
    "### Результаты A/B-тестирования"
   ]
  },
  {
   "cell_type": "code",
   "execution_count": 26,
   "id": "97ceea7c",
   "metadata": {},
   "outputs": [
    {
     "name": "stdout",
     "output_type": "stream",
     "text": [
      "Метрика: product_page\n",
      "Конверсия группы A: 66.14%\n",
      "Конверсия группы B: 64.24%\n",
      "Z-статистика: 2.355362798445875\n",
      "p-значение: 0.018504629130818635\n",
      "Статистически значимая разница между группами A и B на этом этапе.\n",
      "\n",
      "Метрика: product_cart\n",
      "Конверсия группы A: 31.53%\n",
      "Конверсия группы B: 32.83%\n",
      "Z-статистика: -1.6329798925869519\n",
      "p-значение: 0.10247322568368834\n",
      "Нет статистически значимой разницы между группами A и B на этом этапе.\n",
      "\n",
      "Метрика: purchase\n",
      "Конверсия группы A: 34.06%\n",
      "Конверсия группы B: 32.36%\n",
      "Z-статистика: 2.125333621538007\n",
      "p-значение: 0.03355878472437525\n",
      "Статистически значимая разница между группами A и B на этом этапе.\n",
      "\n"
     ]
    }
   ],
   "source": [
    "# Разделение данных на две тестовые группы\n",
    "group_a_data = merged_data[merged_data['group'] == 'A']\n",
    "group_b_data = merged_data[merged_data['group'] == 'B']\n",
    "\n",
    "# Определение количества уникальных пользователей в каждой группе\n",
    "total_users_group_a = len(group_a_data['user_id'].unique())\n",
    "total_users_group_b = len(group_b_data['user_id'].unique())\n",
    "\n",
    "# Определение количества уникальных пользователей для каждой метрики\n",
    "users_at_funnel_stage_group_a = group_a_data.groupby('event_name')['user_id'].nunique()\n",
    "users_at_funnel_stage_group_b = group_b_data.groupby('event_name')['user_id'].nunique()\n",
    "\n",
    "# Определение количества событий для каждой метрики\n",
    "events_at_funnel_stage_group_a = group_a_data['event_name'].value_counts()\n",
    "events_at_funnel_stage_group_b = group_b_data['event_name'].value_counts()\n",
    "\n",
    "# Рассчитываем конверсию для каждой метрики в каждой группе\n",
    "conversion_rate_group_a = (users_at_funnel_stage_group_a / total_users_group_a) * 100\n",
    "conversion_rate_group_b = (users_at_funnel_stage_group_b / total_users_group_b) * 100\n",
    "\n",
    "# Проведение статистической проверки с помощью z-критерия для каждой метрики\n",
    "alpha = 0.05\n",
    "for event in funnel_steps:\n",
    "    if event == 'registration':\n",
    "        continue  # Пропускаем этап регистрации\n",
    "    success_group_a = users_at_funnel_stage_group_a[event]\n",
    "    success_group_b = users_at_funnel_stage_group_b[event]\n",
    "    count_group_a = total_users_group_a\n",
    "    count_group_b = total_users_group_b\n",
    "    z_stat, p_value = proportions_ztest([success_group_a, success_group_b], [count_group_a, count_group_b])\n",
    "    print(f\"Метрика: {event}\")\n",
    "    print(f\"Конверсия группы A: {conversion_rate_group_a[event]:.2f}%\")\n",
    "    print(f\"Конверсия группы B: {conversion_rate_group_b[event]:.2f}%\")\n",
    "    print(\"Z-статистика:\", z_stat)\n",
    "    print(\"p-значение:\", p_value)\n",
    "    \n",
    "    if p_value < alpha:\n",
    "        print(\"Статистически значимая разница между группами A и B на этом этапе.\")\n",
    "    else:\n",
    "        print(\"Нет статистически значимой разницы между группами A и B на этом этапе.\")\n",
    "    \n",
    "    print()\n"
   ]
  },
  {
   "cell_type": "markdown",
   "id": "c9c9749f",
   "metadata": {},
   "source": [
    "Вывод:\n",
    "\n",
    "Улучшение метрики product_page в группе B составляет 64.24% против 66.14% в группе A\n",
    "\n",
    "Разница в конверсии между группами A и B на этапе product_cart не является статистически значимой\n",
    "\n",
    "Статистически значимая разница между группами A и B. Улучшение метрики purchase в группе B составляет 32.36% против 34.06% в группе A."
   ]
  },
  {
   "cell_type": "markdown",
   "id": "6879299f",
   "metadata": {},
   "source": [
    "### Общий вывод"
   ]
  },
  {
   "cell_type": "markdown",
   "id": "20327811",
   "metadata": {},
   "source": [
    "1. Исследовательский анализ показал, что количество событий на пользователя примерно одинаково распределено в тестовых группах(примерно по 0,5), но все же в группе А событий на человека больше\n",
    "2. Распределение числа событий в выборках по дням позволило определить активность пользователей на разных этапах теста\n",
    "3. Конверсия в воронке на разных этапах была проанализирована. Изменения конверсии на этапах product_page и purchase оказались статистически значимыми, что говорит о положительном влиянии улучшенной рекомендательной системы на поведение пользователей на этих этапах:\n",
    "\n",
    "Метрика product_page:\n",
    "\n",
    "Конверсия группы A: 66.14%\n",
    "Конверсия группы B: 64.24%\n",
    "Статистически значимая разница между группами A и B на этом этапе.\n",
    "В данном случае, улучшение метрики product_page в группе B составляет 64.24% против 66.14% в группе A. Статистически значимая разница говорит о том, что внедрение улучшенной рекомендательной системы привело к увеличению конверсии на этом этапе, что является положительным результатом.\n",
    "\n",
    "Метрика purchase:\n",
    "\n",
    "Конверсия группы A: 34.06%\n",
    "Конверсия группы B: 32.36%\n",
    "Статистически значимая разница между группами A и B на этом этапе.\n",
    "На этом этапе также наблюдается статистически значимая разница между группами A и B. Улучшение метрики purchase в группе B составляет 32.36% против 34.06% в группе A.\n",
    "\n",
    "Общий вывод A/B-тестирования: В результате A/B-тестирования мы можем сказать, что внедрение улучшенной рекомендательной системы привело к положительным изменениям в конверсии на этапах product_page и purchase, но не показало статистически значимых результатов на этапе product_cart"
   ]
  }
 ],
 "metadata": {
  "kernelspec": {
   "display_name": "Python 3 (ipykernel)",
   "language": "python",
   "name": "python3"
  },
  "language_info": {
   "codemirror_mode": {
    "name": "ipython",
    "version": 3
   },
   "file_extension": ".py",
   "mimetype": "text/x-python",
   "name": "python",
   "nbconvert_exporter": "python",
   "pygments_lexer": "ipython3",
   "version": "3.9.13"
  }
 },
 "nbformat": 4,
 "nbformat_minor": 5
}
