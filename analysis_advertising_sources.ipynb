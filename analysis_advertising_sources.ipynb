{
 "cells": [
  {
   "cell_type": "markdown",
   "id": "01f50ee0",
   "metadata": {},
   "source": [
    "# Выпускной проект \"Игры — Анализ рекламных источников\""
   ]
  },
  {
   "cell_type": "markdown",
   "id": "33ceed99",
   "metadata": {},
   "source": [
    "### Я - аналитик компании \"Космические братья\". Заказчик - отдел маркетинга игры \"Космические братья\".\n",
    "\n",
    "### Цель: выявить проблемы в прошлой маркетинговой кампании и улучшить показатели, проанализировать канал привлечения и выявить лучшую стратегию."
   ]
  },
  {
   "cell_type": "markdown",
   "id": "d6bd1743",
   "metadata": {},
   "source": [
    "### План проекта:\n",
    "#### Введение\n",
    "#### Обзор данных\n",
    "#### Предобработка данных\n",
    "1. Поиск и избавление от дубликатов\n",
    "2. Приведение данных к нужным типам\n",
    "3. Анализ причин пропущенных значений (обработка, замена)\n",
    "\n",
    "#### Исследовательский анализ\n",
    "1. Анализ количества построек на пользователя\n",
    "2. Анализ среднего времени, которое пользователи проводят в игре \n",
    "3. Анализ доли пользователей завершивших уровень\n",
    "4. Анализ долей различных стратегий в канале\n",
    "\n",
    "#### Расчет метрик\n",
    "1. Стоимость привлечения пользователя (CAC)\n",
    "\n",
    "#### Проверка гипотез\n",
    "\n",
    "H0 - время завершения уровня не различается в зависимости способа прохождения, H1 - время завершения уровня различается в зависимости способа прохождения\n",
    "    \n",
    "H0 -Среднее время в игре пользователей из источника instagram_new_adverts равно среднему времени в игре пользователей из источника youtube_channel_reklama,\n",
    "H1 - Среднее время в игре пользователей из источника instagram_new_adverts отличается от среднего времени в игре пользователей из источника youtube_channel_reklama\n",
    "\n",
    "#### Вывод"
   ]
  },
  {
   "cell_type": "markdown",
   "id": "297850f1",
   "metadata": {},
   "source": [
    "# 1. Предобработка данных"
   ]
  },
  {
   "cell_type": "code",
   "execution_count": 203,
   "id": "03ac8d19",
   "metadata": {},
   "outputs": [],
   "source": [
    "# импорт библиотек\n",
    "import pandas as pd\n",
    "import matplotlib.pyplot as plt\n",
    "import seaborn as sns\n",
    "import numpy as np\n",
    "\n",
    "from scipy import stats as st\n",
    "\n",
    "import warnings\n",
    "warnings.filterwarnings('ignore')"
   ]
  },
  {
   "cell_type": "code",
   "execution_count": 204,
   "id": "45f1d9bc",
   "metadata": {},
   "outputs": [],
   "source": [
    "# загрузка фаилов\n",
    "game_actions = pd.read_csv('game_actions.csv')\n",
    "ad_costs = pd.read_csv('ad_costs.csv')\n",
    "user_source = pd.read_csv('user_source.csv')"
   ]
  },
  {
   "cell_type": "markdown",
   "id": "29e47c21",
   "metadata": {},
   "source": [
    "### Датасет *game_actions.csv*:"
   ]
  },
  {
   "cell_type": "markdown",
   "id": "b76350f9",
   "metadata": {},
   "source": [
    "- `event_datetime` — время события;\n",
    "- `event` — одно из трёх событий:\n",
    "    1. `building` — объект построен,\n",
    "    2. `finished_stage_1` — первый уровень завершён,\n",
    "    3. `project` — проект завершён;\n",
    "- `building_type` — один из трёх типов здания:\n",
    "    1. `assembly_shop` — сборочный цех,\n",
    "    2. `spaceport` — космопорт,\n",
    "    3. `research_center` — исследовательский центр;\n",
    "- `user_id` — идентификатор пользователя;\n",
    "- `project_type` — тип реализованного проекта;"
   ]
  },
  {
   "cell_type": "code",
   "execution_count": 205,
   "id": "8611a903",
   "metadata": {},
   "outputs": [
    {
     "data": {
      "text/html": [
       "<div>\n",
       "<style scoped>\n",
       "    .dataframe tbody tr th:only-of-type {\n",
       "        vertical-align: middle;\n",
       "    }\n",
       "\n",
       "    .dataframe tbody tr th {\n",
       "        vertical-align: top;\n",
       "    }\n",
       "\n",
       "    .dataframe thead th {\n",
       "        text-align: right;\n",
       "    }\n",
       "</style>\n",
       "<table border=\"1\" class=\"dataframe\">\n",
       "  <thead>\n",
       "    <tr style=\"text-align: right;\">\n",
       "      <th></th>\n",
       "      <th>event_datetime</th>\n",
       "      <th>event</th>\n",
       "      <th>building_type</th>\n",
       "      <th>user_id</th>\n",
       "      <th>project_type</th>\n",
       "    </tr>\n",
       "  </thead>\n",
       "  <tbody>\n",
       "    <tr>\n",
       "      <th>0</th>\n",
       "      <td>2020-05-04 00:00:01</td>\n",
       "      <td>building</td>\n",
       "      <td>assembly_shop</td>\n",
       "      <td>55e92310-cb8e-4754-b622-597e124b03de</td>\n",
       "      <td>NaN</td>\n",
       "    </tr>\n",
       "    <tr>\n",
       "      <th>1</th>\n",
       "      <td>2020-05-04 00:00:03</td>\n",
       "      <td>building</td>\n",
       "      <td>assembly_shop</td>\n",
       "      <td>c07b1c10-f477-44dc-81dc-ec82254b1347</td>\n",
       "      <td>NaN</td>\n",
       "    </tr>\n",
       "    <tr>\n",
       "      <th>2</th>\n",
       "      <td>2020-05-04 00:00:16</td>\n",
       "      <td>building</td>\n",
       "      <td>assembly_shop</td>\n",
       "      <td>6edd42cc-e753-4ff6-a947-2107cd560710</td>\n",
       "      <td>NaN</td>\n",
       "    </tr>\n",
       "    <tr>\n",
       "      <th>3</th>\n",
       "      <td>2020-05-04 00:00:16</td>\n",
       "      <td>building</td>\n",
       "      <td>assembly_shop</td>\n",
       "      <td>92c69003-d60a-444a-827f-8cc51bf6bf4c</td>\n",
       "      <td>NaN</td>\n",
       "    </tr>\n",
       "    <tr>\n",
       "      <th>4</th>\n",
       "      <td>2020-05-04 00:00:35</td>\n",
       "      <td>building</td>\n",
       "      <td>assembly_shop</td>\n",
       "      <td>cdc6bb92-0ccb-4490-9866-ef142f09139d</td>\n",
       "      <td>NaN</td>\n",
       "    </tr>\n",
       "  </tbody>\n",
       "</table>\n",
       "</div>"
      ],
      "text/plain": [
       "        event_datetime     event  building_type  \\\n",
       "0  2020-05-04 00:00:01  building  assembly_shop   \n",
       "1  2020-05-04 00:00:03  building  assembly_shop   \n",
       "2  2020-05-04 00:00:16  building  assembly_shop   \n",
       "3  2020-05-04 00:00:16  building  assembly_shop   \n",
       "4  2020-05-04 00:00:35  building  assembly_shop   \n",
       "\n",
       "                                user_id project_type  \n",
       "0  55e92310-cb8e-4754-b622-597e124b03de          NaN  \n",
       "1  c07b1c10-f477-44dc-81dc-ec82254b1347          NaN  \n",
       "2  6edd42cc-e753-4ff6-a947-2107cd560710          NaN  \n",
       "3  92c69003-d60a-444a-827f-8cc51bf6bf4c          NaN  \n",
       "4  cdc6bb92-0ccb-4490-9866-ef142f09139d          NaN  "
      ]
     },
     "execution_count": 205,
     "metadata": {},
     "output_type": "execute_result"
    }
   ],
   "source": [
    "game_actions.head()"
   ]
  },
  {
   "cell_type": "code",
   "execution_count": 206,
   "id": "3ac10bb4",
   "metadata": {},
   "outputs": [
    {
     "name": "stdout",
     "output_type": "stream",
     "text": [
      "<class 'pandas.core.frame.DataFrame'>\n",
      "RangeIndex: 135640 entries, 0 to 135639\n",
      "Data columns (total 5 columns):\n",
      " #   Column          Non-Null Count   Dtype \n",
      "---  ------          --------------   ----- \n",
      " 0   event_datetime  135640 non-null  object\n",
      " 1   event           135640 non-null  object\n",
      " 2   building_type   127957 non-null  object\n",
      " 3   user_id         135640 non-null  object\n",
      " 4   project_type    1866 non-null    object\n",
      "dtypes: object(5)\n",
      "memory usage: 5.2+ MB\n"
     ]
    }
   ],
   "source": [
    "game_actions.info()"
   ]
  },
  {
   "cell_type": "code",
   "execution_count": 207,
   "id": "1114e05e",
   "metadata": {},
   "outputs": [],
   "source": [
    "# приводим столбец к нужному типу данных\n",
    "game_actions['event_datetime'] = pd.to_datetime(game_actions['event_datetime'])"
   ]
  },
  {
   "cell_type": "code",
   "execution_count": 208,
   "id": "9d8a58b9",
   "metadata": {},
   "outputs": [
    {
     "data": {
      "text/plain": [
       "event_datetime         0\n",
       "event                  0\n",
       "building_type       7683\n",
       "user_id                0\n",
       "project_type      133774\n",
       "dtype: int64"
      ]
     },
     "execution_count": 208,
     "metadata": {},
     "output_type": "execute_result"
    }
   ],
   "source": [
    "game_actions.isnull().sum()"
   ]
  },
  {
   "cell_type": "code",
   "execution_count": 209,
   "id": "6b184448",
   "metadata": {},
   "outputs": [
    {
     "data": {
      "text/plain": [
       "1"
      ]
     },
     "execution_count": 209,
     "metadata": {},
     "output_type": "execute_result"
    }
   ],
   "source": [
    "game_actions.duplicated().sum()"
   ]
  },
  {
   "cell_type": "code",
   "execution_count": 210,
   "id": "12044167",
   "metadata": {},
   "outputs": [],
   "source": [
    "# удаляем явный дубликат\n",
    "game_actions = game_actions.drop_duplicates().reset_index(drop=True)"
   ]
  },
  {
   "cell_type": "code",
   "execution_count": 211,
   "id": "642b69e2",
   "metadata": {},
   "outputs": [
    {
     "data": {
      "text/plain": [
       "array(['assembly_shop', 'spaceport', nan, 'research_center'], dtype=object)"
      ]
     },
     "execution_count": 211,
     "metadata": {},
     "output_type": "execute_result"
    }
   ],
   "source": [
    "game_actions['building_type'].unique()"
   ]
  },
  {
   "cell_type": "code",
   "execution_count": 212,
   "id": "6bf76e4c",
   "metadata": {},
   "outputs": [
    {
     "data": {
      "text/plain": [
       "array([nan, 'satellite_orbital_assembly'], dtype=object)"
      ]
     },
     "execution_count": 212,
     "metadata": {},
     "output_type": "execute_result"
    }
   ],
   "source": [
    "game_actions['project_type'].unique()"
   ]
  },
  {
   "cell_type": "markdown",
   "id": "d327be2e",
   "metadata": {},
   "source": [
    "### Датасет ad_costs.csv:"
   ]
  },
  {
   "cell_type": "markdown",
   "id": "a81fd5f7",
   "metadata": {},
   "source": [
    "- `day` - день, в который был совершен клик по объявлению\n",
    "- `source` - источник трафика\n",
    "- `cost` - стоимость кликов"
   ]
  },
  {
   "cell_type": "code",
   "execution_count": 213,
   "id": "d0c5886d",
   "metadata": {},
   "outputs": [
    {
     "data": {
      "text/html": [
       "<div>\n",
       "<style scoped>\n",
       "    .dataframe tbody tr th:only-of-type {\n",
       "        vertical-align: middle;\n",
       "    }\n",
       "\n",
       "    .dataframe tbody tr th {\n",
       "        vertical-align: top;\n",
       "    }\n",
       "\n",
       "    .dataframe thead th {\n",
       "        text-align: right;\n",
       "    }\n",
       "</style>\n",
       "<table border=\"1\" class=\"dataframe\">\n",
       "  <thead>\n",
       "    <tr style=\"text-align: right;\">\n",
       "      <th></th>\n",
       "      <th>source</th>\n",
       "      <th>day</th>\n",
       "      <th>cost</th>\n",
       "    </tr>\n",
       "  </thead>\n",
       "  <tbody>\n",
       "    <tr>\n",
       "      <th>0</th>\n",
       "      <td>facebook_ads</td>\n",
       "      <td>2020-05-03</td>\n",
       "      <td>935.882786</td>\n",
       "    </tr>\n",
       "    <tr>\n",
       "      <th>1</th>\n",
       "      <td>facebook_ads</td>\n",
       "      <td>2020-05-04</td>\n",
       "      <td>548.354480</td>\n",
       "    </tr>\n",
       "    <tr>\n",
       "      <th>2</th>\n",
       "      <td>facebook_ads</td>\n",
       "      <td>2020-05-05</td>\n",
       "      <td>260.185754</td>\n",
       "    </tr>\n",
       "    <tr>\n",
       "      <th>3</th>\n",
       "      <td>facebook_ads</td>\n",
       "      <td>2020-05-06</td>\n",
       "      <td>177.982200</td>\n",
       "    </tr>\n",
       "    <tr>\n",
       "      <th>4</th>\n",
       "      <td>facebook_ads</td>\n",
       "      <td>2020-05-07</td>\n",
       "      <td>111.766796</td>\n",
       "    </tr>\n",
       "  </tbody>\n",
       "</table>\n",
       "</div>"
      ],
      "text/plain": [
       "         source         day        cost\n",
       "0  facebook_ads  2020-05-03  935.882786\n",
       "1  facebook_ads  2020-05-04  548.354480\n",
       "2  facebook_ads  2020-05-05  260.185754\n",
       "3  facebook_ads  2020-05-06  177.982200\n",
       "4  facebook_ads  2020-05-07  111.766796"
      ]
     },
     "execution_count": 213,
     "metadata": {},
     "output_type": "execute_result"
    }
   ],
   "source": [
    "ad_costs.head()"
   ]
  },
  {
   "cell_type": "code",
   "execution_count": 214,
   "id": "50f97fc5",
   "metadata": {},
   "outputs": [
    {
     "name": "stdout",
     "output_type": "stream",
     "text": [
      "<class 'pandas.core.frame.DataFrame'>\n",
      "RangeIndex: 28 entries, 0 to 27\n",
      "Data columns (total 3 columns):\n",
      " #   Column  Non-Null Count  Dtype  \n",
      "---  ------  --------------  -----  \n",
      " 0   source  28 non-null     object \n",
      " 1   day     28 non-null     object \n",
      " 2   cost    28 non-null     float64\n",
      "dtypes: float64(1), object(2)\n",
      "memory usage: 800.0+ bytes\n"
     ]
    }
   ],
   "source": [
    "ad_costs.info()"
   ]
  },
  {
   "cell_type": "code",
   "execution_count": 215,
   "id": "c63ae7d0",
   "metadata": {},
   "outputs": [],
   "source": [
    "# приводим к нужному типу данных\n",
    "ad_costs['day'] = pd.to_datetime(ad_costs['day'])"
   ]
  },
  {
   "cell_type": "code",
   "execution_count": 216,
   "id": "f8bbbada",
   "metadata": {},
   "outputs": [
    {
     "data": {
      "text/plain": [
       "0"
      ]
     },
     "execution_count": 216,
     "metadata": {},
     "output_type": "execute_result"
    }
   ],
   "source": [
    "ad_costs.duplicated().sum()"
   ]
  },
  {
   "cell_type": "code",
   "execution_count": 217,
   "id": "abd5b688",
   "metadata": {},
   "outputs": [
    {
     "data": {
      "text/plain": [
       "Timestamp('2020-05-03 00:00:00')"
      ]
     },
     "execution_count": 217,
     "metadata": {},
     "output_type": "execute_result"
    }
   ],
   "source": [
    "ad_costs['day'].min()"
   ]
  },
  {
   "cell_type": "code",
   "execution_count": 218,
   "id": "d77901b9",
   "metadata": {},
   "outputs": [
    {
     "data": {
      "text/plain": [
       "Timestamp('2020-05-09 00:00:00')"
      ]
     },
     "execution_count": 218,
     "metadata": {},
     "output_type": "execute_result"
    }
   ],
   "source": [
    "ad_costs['day'].max()"
   ]
  },
  {
   "cell_type": "markdown",
   "id": "d0e89ac0",
   "metadata": {},
   "source": [
    "### Датасет user_source.csv"
   ]
  },
  {
   "cell_type": "markdown",
   "id": "f596f3da",
   "metadata": {},
   "source": [
    "- `user_id` - идентификатор пользователя\n",
    "- `source` - источников, с которого пришёл пользователь, установивший приложение"
   ]
  },
  {
   "cell_type": "code",
   "execution_count": 219,
   "id": "1c5696e4",
   "metadata": {},
   "outputs": [
    {
     "data": {
      "text/html": [
       "<div>\n",
       "<style scoped>\n",
       "    .dataframe tbody tr th:only-of-type {\n",
       "        vertical-align: middle;\n",
       "    }\n",
       "\n",
       "    .dataframe tbody tr th {\n",
       "        vertical-align: top;\n",
       "    }\n",
       "\n",
       "    .dataframe thead th {\n",
       "        text-align: right;\n",
       "    }\n",
       "</style>\n",
       "<table border=\"1\" class=\"dataframe\">\n",
       "  <thead>\n",
       "    <tr style=\"text-align: right;\">\n",
       "      <th></th>\n",
       "      <th>user_id</th>\n",
       "      <th>source</th>\n",
       "    </tr>\n",
       "  </thead>\n",
       "  <tbody>\n",
       "    <tr>\n",
       "      <th>0</th>\n",
       "      <td>0001f83c-c6ac-4621-b7f0-8a28b283ac30</td>\n",
       "      <td>facebook_ads</td>\n",
       "    </tr>\n",
       "    <tr>\n",
       "      <th>1</th>\n",
       "      <td>00151b4f-ba38-44a8-a650-d7cf130a0105</td>\n",
       "      <td>yandex_direct</td>\n",
       "    </tr>\n",
       "    <tr>\n",
       "      <th>2</th>\n",
       "      <td>001aaea6-3d14-43f1-8ca8-7f48820f17aa</td>\n",
       "      <td>youtube_channel_reklama</td>\n",
       "    </tr>\n",
       "    <tr>\n",
       "      <th>3</th>\n",
       "      <td>001d39dc-366c-4021-9604-6a3b9ff01e25</td>\n",
       "      <td>instagram_new_adverts</td>\n",
       "    </tr>\n",
       "    <tr>\n",
       "      <th>4</th>\n",
       "      <td>002f508f-67b6-479f-814b-b05f00d4e995</td>\n",
       "      <td>facebook_ads</td>\n",
       "    </tr>\n",
       "  </tbody>\n",
       "</table>\n",
       "</div>"
      ],
      "text/plain": [
       "                                user_id                   source\n",
       "0  0001f83c-c6ac-4621-b7f0-8a28b283ac30             facebook_ads\n",
       "1  00151b4f-ba38-44a8-a650-d7cf130a0105            yandex_direct\n",
       "2  001aaea6-3d14-43f1-8ca8-7f48820f17aa  youtube_channel_reklama\n",
       "3  001d39dc-366c-4021-9604-6a3b9ff01e25    instagram_new_adverts\n",
       "4  002f508f-67b6-479f-814b-b05f00d4e995             facebook_ads"
      ]
     },
     "execution_count": 219,
     "metadata": {},
     "output_type": "execute_result"
    }
   ],
   "source": [
    "user_source.head()"
   ]
  },
  {
   "cell_type": "code",
   "execution_count": 220,
   "id": "76e70a89",
   "metadata": {},
   "outputs": [
    {
     "name": "stdout",
     "output_type": "stream",
     "text": [
      "<class 'pandas.core.frame.DataFrame'>\n",
      "RangeIndex: 13576 entries, 0 to 13575\n",
      "Data columns (total 2 columns):\n",
      " #   Column   Non-Null Count  Dtype \n",
      "---  ------   --------------  ----- \n",
      " 0   user_id  13576 non-null  object\n",
      " 1   source   13576 non-null  object\n",
      "dtypes: object(2)\n",
      "memory usage: 212.2+ KB\n"
     ]
    }
   ],
   "source": [
    "user_source.info()"
   ]
  },
  {
   "cell_type": "code",
   "execution_count": 221,
   "id": "7c29f021",
   "metadata": {},
   "outputs": [
    {
     "data": {
      "text/plain": [
       "0"
      ]
     },
     "execution_count": 221,
     "metadata": {},
     "output_type": "execute_result"
    }
   ],
   "source": [
    "user_source.duplicated().sum()"
   ]
  },
  {
   "cell_type": "code",
   "execution_count": 222,
   "id": "bcb7dcd7",
   "metadata": {},
   "outputs": [
    {
     "data": {
      "text/plain": [
       "array(['facebook_ads', 'yandex_direct', 'youtube_channel_reklama',\n",
       "       'instagram_new_adverts'], dtype=object)"
      ]
     },
     "execution_count": 222,
     "metadata": {},
     "output_type": "execute_result"
    }
   ],
   "source": [
    "user_source['source'].unique()"
   ]
  },
  {
   "cell_type": "markdown",
   "id": "c82b8544",
   "metadata": {},
   "source": [
    "Предобработка завершена. Удален дубликат, типы данных в столбцах event_datetime и day приведены к формату дата и время. Пропуски в данных удалять и заполнять не вижу смысла, так как в столбце building_type некоторые события не предполагают постройку, а пропуски в project_type означают невыполнение проекта. Данные подготовлены к анализу."
   ]
  },
  {
   "cell_type": "markdown",
   "id": "0dc2ebba",
   "metadata": {},
   "source": [
    "# 2. Исследовательский анализ"
   ]
  },
  {
   "cell_type": "markdown",
   "id": "328a1460",
   "metadata": {},
   "source": [
    "В данном разделе мы проанализируем пользовательское поведение."
   ]
  },
  {
   "cell_type": "code",
   "execution_count": 223,
   "id": "c38326bc",
   "metadata": {},
   "outputs": [],
   "source": [
    "# добавляем колонку с источником рекламы по идентификатору пользователя \n",
    "game_actions = game_actions.merge(user_source, how='left', on='user_id')"
   ]
  },
  {
   "cell_type": "code",
   "execution_count": 224,
   "id": "222be2ad",
   "metadata": {},
   "outputs": [
    {
     "data": {
      "text/html": [
       "<div>\n",
       "<style scoped>\n",
       "    .dataframe tbody tr th:only-of-type {\n",
       "        vertical-align: middle;\n",
       "    }\n",
       "\n",
       "    .dataframe tbody tr th {\n",
       "        vertical-align: top;\n",
       "    }\n",
       "\n",
       "    .dataframe thead th {\n",
       "        text-align: right;\n",
       "    }\n",
       "</style>\n",
       "<table border=\"1\" class=\"dataframe\">\n",
       "  <thead>\n",
       "    <tr style=\"text-align: right;\">\n",
       "      <th></th>\n",
       "      <th>event_datetime</th>\n",
       "      <th>event</th>\n",
       "      <th>building_type</th>\n",
       "      <th>user_id</th>\n",
       "      <th>project_type</th>\n",
       "      <th>source</th>\n",
       "    </tr>\n",
       "  </thead>\n",
       "  <tbody>\n",
       "    <tr>\n",
       "      <th>0</th>\n",
       "      <td>2020-05-04 00:00:01</td>\n",
       "      <td>building</td>\n",
       "      <td>assembly_shop</td>\n",
       "      <td>55e92310-cb8e-4754-b622-597e124b03de</td>\n",
       "      <td>NaN</td>\n",
       "      <td>youtube_channel_reklama</td>\n",
       "    </tr>\n",
       "    <tr>\n",
       "      <th>1</th>\n",
       "      <td>2020-05-04 00:00:03</td>\n",
       "      <td>building</td>\n",
       "      <td>assembly_shop</td>\n",
       "      <td>c07b1c10-f477-44dc-81dc-ec82254b1347</td>\n",
       "      <td>NaN</td>\n",
       "      <td>facebook_ads</td>\n",
       "    </tr>\n",
       "    <tr>\n",
       "      <th>2</th>\n",
       "      <td>2020-05-04 00:00:16</td>\n",
       "      <td>building</td>\n",
       "      <td>assembly_shop</td>\n",
       "      <td>6edd42cc-e753-4ff6-a947-2107cd560710</td>\n",
       "      <td>NaN</td>\n",
       "      <td>instagram_new_adverts</td>\n",
       "    </tr>\n",
       "    <tr>\n",
       "      <th>3</th>\n",
       "      <td>2020-05-04 00:00:16</td>\n",
       "      <td>building</td>\n",
       "      <td>assembly_shop</td>\n",
       "      <td>92c69003-d60a-444a-827f-8cc51bf6bf4c</td>\n",
       "      <td>NaN</td>\n",
       "      <td>facebook_ads</td>\n",
       "    </tr>\n",
       "    <tr>\n",
       "      <th>4</th>\n",
       "      <td>2020-05-04 00:00:35</td>\n",
       "      <td>building</td>\n",
       "      <td>assembly_shop</td>\n",
       "      <td>cdc6bb92-0ccb-4490-9866-ef142f09139d</td>\n",
       "      <td>NaN</td>\n",
       "      <td>yandex_direct</td>\n",
       "    </tr>\n",
       "    <tr>\n",
       "      <th>...</th>\n",
       "      <td>...</td>\n",
       "      <td>...</td>\n",
       "      <td>...</td>\n",
       "      <td>...</td>\n",
       "      <td>...</td>\n",
       "      <td>...</td>\n",
       "    </tr>\n",
       "    <tr>\n",
       "      <th>135634</th>\n",
       "      <td>2020-06-05 00:08:06</td>\n",
       "      <td>building</td>\n",
       "      <td>research_center</td>\n",
       "      <td>f21d179f-1c4b-437e-b9c6-ab1976907195</td>\n",
       "      <td>NaN</td>\n",
       "      <td>instagram_new_adverts</td>\n",
       "    </tr>\n",
       "    <tr>\n",
       "      <th>135635</th>\n",
       "      <td>2020-06-05 02:25:12</td>\n",
       "      <td>finished_stage_1</td>\n",
       "      <td>NaN</td>\n",
       "      <td>515c1952-99aa-4bca-a7ea-d0449eb5385a</td>\n",
       "      <td>NaN</td>\n",
       "      <td>yandex_direct</td>\n",
       "    </tr>\n",
       "    <tr>\n",
       "      <th>135636</th>\n",
       "      <td>2020-06-05 08:57:52</td>\n",
       "      <td>building</td>\n",
       "      <td>research_center</td>\n",
       "      <td>ed3e7d02-8a96-4be7-9998-e9813ff9c316</td>\n",
       "      <td>NaN</td>\n",
       "      <td>youtube_channel_reklama</td>\n",
       "    </tr>\n",
       "    <tr>\n",
       "      <th>135637</th>\n",
       "      <td>2020-06-05 12:12:27</td>\n",
       "      <td>finished_stage_1</td>\n",
       "      <td>NaN</td>\n",
       "      <td>32572adb-900f-4b5d-a453-1eb1e6d88d8b</td>\n",
       "      <td>NaN</td>\n",
       "      <td>facebook_ads</td>\n",
       "    </tr>\n",
       "    <tr>\n",
       "      <th>135638</th>\n",
       "      <td>2020-06-05 12:32:49</td>\n",
       "      <td>finished_stage_1</td>\n",
       "      <td>NaN</td>\n",
       "      <td>f21d179f-1c4b-437e-b9c6-ab1976907195</td>\n",
       "      <td>NaN</td>\n",
       "      <td>instagram_new_adverts</td>\n",
       "    </tr>\n",
       "  </tbody>\n",
       "</table>\n",
       "<p>135639 rows × 6 columns</p>\n",
       "</div>"
      ],
      "text/plain": [
       "            event_datetime             event    building_type  \\\n",
       "0      2020-05-04 00:00:01          building    assembly_shop   \n",
       "1      2020-05-04 00:00:03          building    assembly_shop   \n",
       "2      2020-05-04 00:00:16          building    assembly_shop   \n",
       "3      2020-05-04 00:00:16          building    assembly_shop   \n",
       "4      2020-05-04 00:00:35          building    assembly_shop   \n",
       "...                    ...               ...              ...   \n",
       "135634 2020-06-05 00:08:06          building  research_center   \n",
       "135635 2020-06-05 02:25:12  finished_stage_1              NaN   \n",
       "135636 2020-06-05 08:57:52          building  research_center   \n",
       "135637 2020-06-05 12:12:27  finished_stage_1              NaN   \n",
       "135638 2020-06-05 12:32:49  finished_stage_1              NaN   \n",
       "\n",
       "                                     user_id project_type  \\\n",
       "0       55e92310-cb8e-4754-b622-597e124b03de          NaN   \n",
       "1       c07b1c10-f477-44dc-81dc-ec82254b1347          NaN   \n",
       "2       6edd42cc-e753-4ff6-a947-2107cd560710          NaN   \n",
       "3       92c69003-d60a-444a-827f-8cc51bf6bf4c          NaN   \n",
       "4       cdc6bb92-0ccb-4490-9866-ef142f09139d          NaN   \n",
       "...                                      ...          ...   \n",
       "135634  f21d179f-1c4b-437e-b9c6-ab1976907195          NaN   \n",
       "135635  515c1952-99aa-4bca-a7ea-d0449eb5385a          NaN   \n",
       "135636  ed3e7d02-8a96-4be7-9998-e9813ff9c316          NaN   \n",
       "135637  32572adb-900f-4b5d-a453-1eb1e6d88d8b          NaN   \n",
       "135638  f21d179f-1c4b-437e-b9c6-ab1976907195          NaN   \n",
       "\n",
       "                         source  \n",
       "0       youtube_channel_reklama  \n",
       "1                  facebook_ads  \n",
       "2         instagram_new_adverts  \n",
       "3                  facebook_ads  \n",
       "4                 yandex_direct  \n",
       "...                         ...  \n",
       "135634    instagram_new_adverts  \n",
       "135635            yandex_direct  \n",
       "135636  youtube_channel_reklama  \n",
       "135637             facebook_ads  \n",
       "135638    instagram_new_adverts  \n",
       "\n",
       "[135639 rows x 6 columns]"
      ]
     },
     "execution_count": 224,
     "metadata": {},
     "output_type": "execute_result"
    }
   ],
   "source": [
    "game_actions"
   ]
  },
  {
   "cell_type": "markdown",
   "id": "d645b10d",
   "metadata": {},
   "source": [
    "## 2.1. Анализ количества построек на пользователя - сделано"
   ]
  },
  {
   "cell_type": "code",
   "execution_count": 225,
   "id": "3fe45ddd",
   "metadata": {},
   "outputs": [],
   "source": [
    "def building(df, name):\n",
    "    user_build = df.groupby('user_id')['building_type'].count().reset_index()\n",
    "    user_build.hist(bins=20, figsize=(12,5), color = 'green', ec = 'black');\n",
    "    plt.title(f'Количество построек на пользователя', fontsize=15);\n",
    "    plt.xlabel('Постройки', fontsize = 10) \n",
    "    plt.ylabel('Пользователи', fontsize = 10);\n",
    "    print('Среднее количество построек: {:.1f}'.format(user_build['building_type'].sum() / user_build['user_id'].count()))"
   ]
  },
  {
   "cell_type": "code",
   "execution_count": 226,
   "id": "85a0361f",
   "metadata": {},
   "outputs": [
    {
     "name": "stdout",
     "output_type": "stream",
     "text": [
      "Среднее количество построек: 9.4\n"
     ]
    },
    {
     "data": {
      "image/png": "[encoded data removed]",
      "text/plain": [
       "<Figure size 1200x500 with 1 Axes>"
      ]
     },
     "metadata": {},
     "output_type": "display_data"
    }
   ],
   "source": [
    "building(game_actions, 'all users')"
   ]
  },
  {
   "cell_type": "markdown",
   "id": "2a7af8d9",
   "metadata": {},
   "source": [
    "Среднее число построек равно 9. На отметке 7-8 построек наблюдается спад, это может быть связано с тем, что на этой отметке пользователи переходят на новый уровень победив врага или продолжают постройку сданий дальше. Возможно, здесь так же есть игроки, которые еще в процессе прохождения уровня."
   ]
  },
  {
   "cell_type": "markdown",
   "id": "3dd93013",
   "metadata": {},
   "source": [
    "## 2.2. Анализ среднего времени, которое пользователи проводят в игре - сделано"
   ]
  },
  {
   "cell_type": "code",
   "execution_count": 227,
   "id": "bbe7ab07",
   "metadata": {},
   "outputs": [],
   "source": [
    "# выделяем столбцы с пермыи и последним событием пользователя\n",
    "first_event = game_actions.groupby(['user_id']).agg(first_event_datetime = ('event_datetime', 'min')).reset_index()\n",
    "last_event = game_actions.groupby(['user_id']).agg(last_event_datetime = ('event_datetime', 'max')).reset_index()"
   ]
  },
  {
   "cell_type": "code",
   "execution_count": 228,
   "id": "b7ad58cf",
   "metadata": {},
   "outputs": [],
   "source": [
    "# добавляем столбцы в датафрейм\n",
    "game_actions = game_actions.merge(first_event, how='left', on='user_id')\n",
    "game_actions = game_actions.merge(last_event, how='left', on='user_id')"
   ]
  },
  {
   "cell_type": "code",
   "execution_count": 229,
   "id": "9a821e2a",
   "metadata": {},
   "outputs": [],
   "source": [
    "# приводим к нужному типу\n",
    "game_actions['first_event_datetime'] = game_actions['first_event_datetime'].dt.date\n",
    "game_actions['last_event_datetime'] = game_actions['last_event_datetime'].dt.date"
   ]
  },
  {
   "cell_type": "code",
   "execution_count": 230,
   "id": "855b18f0",
   "metadata": {},
   "outputs": [],
   "source": [
    "# добавляем столбец с лайфтаймом пользователя в игре\n",
    "game_actions['lifetime'] = game_actions['last_event_datetime'] - game_actions['first_event_datetime']"
   ]
  },
  {
   "cell_type": "code",
   "execution_count": 231,
   "id": "d2bc3d44",
   "metadata": {},
   "outputs": [
    {
     "data": {
      "text/html": [
       "<div>\n",
       "<style scoped>\n",
       "    .dataframe tbody tr th:only-of-type {\n",
       "        vertical-align: middle;\n",
       "    }\n",
       "\n",
       "    .dataframe tbody tr th {\n",
       "        vertical-align: top;\n",
       "    }\n",
       "\n",
       "    .dataframe thead th {\n",
       "        text-align: right;\n",
       "    }\n",
       "</style>\n",
       "<table border=\"1\" class=\"dataframe\">\n",
       "  <thead>\n",
       "    <tr style=\"text-align: right;\">\n",
       "      <th></th>\n",
       "      <th>event_datetime</th>\n",
       "      <th>event</th>\n",
       "      <th>building_type</th>\n",
       "      <th>user_id</th>\n",
       "      <th>project_type</th>\n",
       "      <th>source</th>\n",
       "      <th>first_event_datetime</th>\n",
       "      <th>last_event_datetime</th>\n",
       "      <th>lifetime</th>\n",
       "    </tr>\n",
       "  </thead>\n",
       "  <tbody>\n",
       "    <tr>\n",
       "      <th>0</th>\n",
       "      <td>2020-05-04 00:00:01</td>\n",
       "      <td>building</td>\n",
       "      <td>assembly_shop</td>\n",
       "      <td>55e92310-cb8e-4754-b622-597e124b03de</td>\n",
       "      <td>NaN</td>\n",
       "      <td>youtube_channel_reklama</td>\n",
       "      <td>2020-05-04</td>\n",
       "      <td>2020-05-10</td>\n",
       "      <td>6 days</td>\n",
       "    </tr>\n",
       "    <tr>\n",
       "      <th>1</th>\n",
       "      <td>2020-05-04 00:00:03</td>\n",
       "      <td>building</td>\n",
       "      <td>assembly_shop</td>\n",
       "      <td>c07b1c10-f477-44dc-81dc-ec82254b1347</td>\n",
       "      <td>NaN</td>\n",
       "      <td>facebook_ads</td>\n",
       "      <td>2020-05-04</td>\n",
       "      <td>2020-05-15</td>\n",
       "      <td>11 days</td>\n",
       "    </tr>\n",
       "    <tr>\n",
       "      <th>2</th>\n",
       "      <td>2020-05-04 00:00:16</td>\n",
       "      <td>building</td>\n",
       "      <td>assembly_shop</td>\n",
       "      <td>6edd42cc-e753-4ff6-a947-2107cd560710</td>\n",
       "      <td>NaN</td>\n",
       "      <td>instagram_new_adverts</td>\n",
       "      <td>2020-05-04</td>\n",
       "      <td>2020-05-16</td>\n",
       "      <td>12 days</td>\n",
       "    </tr>\n",
       "    <tr>\n",
       "      <th>3</th>\n",
       "      <td>2020-05-04 00:00:16</td>\n",
       "      <td>building</td>\n",
       "      <td>assembly_shop</td>\n",
       "      <td>92c69003-d60a-444a-827f-8cc51bf6bf4c</td>\n",
       "      <td>NaN</td>\n",
       "      <td>facebook_ads</td>\n",
       "      <td>2020-05-04</td>\n",
       "      <td>2020-05-12</td>\n",
       "      <td>8 days</td>\n",
       "    </tr>\n",
       "    <tr>\n",
       "      <th>4</th>\n",
       "      <td>2020-05-04 00:00:35</td>\n",
       "      <td>building</td>\n",
       "      <td>assembly_shop</td>\n",
       "      <td>cdc6bb92-0ccb-4490-9866-ef142f09139d</td>\n",
       "      <td>NaN</td>\n",
       "      <td>yandex_direct</td>\n",
       "      <td>2020-05-04</td>\n",
       "      <td>2020-05-11</td>\n",
       "      <td>7 days</td>\n",
       "    </tr>\n",
       "    <tr>\n",
       "      <th>...</th>\n",
       "      <td>...</td>\n",
       "      <td>...</td>\n",
       "      <td>...</td>\n",
       "      <td>...</td>\n",
       "      <td>...</td>\n",
       "      <td>...</td>\n",
       "      <td>...</td>\n",
       "      <td>...</td>\n",
       "      <td>...</td>\n",
       "    </tr>\n",
       "    <tr>\n",
       "      <th>135634</th>\n",
       "      <td>2020-06-05 00:08:06</td>\n",
       "      <td>building</td>\n",
       "      <td>research_center</td>\n",
       "      <td>f21d179f-1c4b-437e-b9c6-ab1976907195</td>\n",
       "      <td>NaN</td>\n",
       "      <td>instagram_new_adverts</td>\n",
       "      <td>2020-05-06</td>\n",
       "      <td>2020-06-05</td>\n",
       "      <td>30 days</td>\n",
       "    </tr>\n",
       "    <tr>\n",
       "      <th>135635</th>\n",
       "      <td>2020-06-05 02:25:12</td>\n",
       "      <td>finished_stage_1</td>\n",
       "      <td>NaN</td>\n",
       "      <td>515c1952-99aa-4bca-a7ea-d0449eb5385a</td>\n",
       "      <td>NaN</td>\n",
       "      <td>yandex_direct</td>\n",
       "      <td>2020-05-07</td>\n",
       "      <td>2020-06-05</td>\n",
       "      <td>29 days</td>\n",
       "    </tr>\n",
       "    <tr>\n",
       "      <th>135636</th>\n",
       "      <td>2020-06-05 08:57:52</td>\n",
       "      <td>building</td>\n",
       "      <td>research_center</td>\n",
       "      <td>ed3e7d02-8a96-4be7-9998-e9813ff9c316</td>\n",
       "      <td>NaN</td>\n",
       "      <td>youtube_channel_reklama</td>\n",
       "      <td>2020-05-07</td>\n",
       "      <td>2020-06-05</td>\n",
       "      <td>29 days</td>\n",
       "    </tr>\n",
       "    <tr>\n",
       "      <th>135637</th>\n",
       "      <td>2020-06-05 12:12:27</td>\n",
       "      <td>finished_stage_1</td>\n",
       "      <td>NaN</td>\n",
       "      <td>32572adb-900f-4b5d-a453-1eb1e6d88d8b</td>\n",
       "      <td>NaN</td>\n",
       "      <td>facebook_ads</td>\n",
       "      <td>2020-05-07</td>\n",
       "      <td>2020-06-05</td>\n",
       "      <td>29 days</td>\n",
       "    </tr>\n",
       "    <tr>\n",
       "      <th>135638</th>\n",
       "      <td>2020-06-05 12:32:49</td>\n",
       "      <td>finished_stage_1</td>\n",
       "      <td>NaN</td>\n",
       "      <td>f21d179f-1c4b-437e-b9c6-ab1976907195</td>\n",
       "      <td>NaN</td>\n",
       "      <td>instagram_new_adverts</td>\n",
       "      <td>2020-05-06</td>\n",
       "      <td>2020-06-05</td>\n",
       "      <td>30 days</td>\n",
       "    </tr>\n",
       "  </tbody>\n",
       "</table>\n",
       "<p>135639 rows × 9 columns</p>\n",
       "</div>"
      ],
      "text/plain": [
       "            event_datetime             event    building_type  \\\n",
       "0      2020-05-04 00:00:01          building    assembly_shop   \n",
       "1      2020-05-04 00:00:03          building    assembly_shop   \n",
       "2      2020-05-04 00:00:16          building    assembly_shop   \n",
       "3      2020-05-04 00:00:16          building    assembly_shop   \n",
       "4      2020-05-04 00:00:35          building    assembly_shop   \n",
       "...                    ...               ...              ...   \n",
       "135634 2020-06-05 00:08:06          building  research_center   \n",
       "135635 2020-06-05 02:25:12  finished_stage_1              NaN   \n",
       "135636 2020-06-05 08:57:52          building  research_center   \n",
       "135637 2020-06-05 12:12:27  finished_stage_1              NaN   \n",
       "135638 2020-06-05 12:32:49  finished_stage_1              NaN   \n",
       "\n",
       "                                     user_id project_type  \\\n",
       "0       55e92310-cb8e-4754-b622-597e124b03de          NaN   \n",
       "1       c07b1c10-f477-44dc-81dc-ec82254b1347          NaN   \n",
       "2       6edd42cc-e753-4ff6-a947-2107cd560710          NaN   \n",
       "3       92c69003-d60a-444a-827f-8cc51bf6bf4c          NaN   \n",
       "4       cdc6bb92-0ccb-4490-9866-ef142f09139d          NaN   \n",
       "...                                      ...          ...   \n",
       "135634  f21d179f-1c4b-437e-b9c6-ab1976907195          NaN   \n",
       "135635  515c1952-99aa-4bca-a7ea-d0449eb5385a          NaN   \n",
       "135636  ed3e7d02-8a96-4be7-9998-e9813ff9c316          NaN   \n",
       "135637  32572adb-900f-4b5d-a453-1eb1e6d88d8b          NaN   \n",
       "135638  f21d179f-1c4b-437e-b9c6-ab1976907195          NaN   \n",
       "\n",
       "                         source first_event_datetime last_event_datetime  \\\n",
       "0       youtube_channel_reklama           2020-05-04          2020-05-10   \n",
       "1                  facebook_ads           2020-05-04          2020-05-15   \n",
       "2         instagram_new_adverts           2020-05-04          2020-05-16   \n",
       "3                  facebook_ads           2020-05-04          2020-05-12   \n",
       "4                 yandex_direct           2020-05-04          2020-05-11   \n",
       "...                         ...                  ...                 ...   \n",
       "135634    instagram_new_adverts           2020-05-06          2020-06-05   \n",
       "135635            yandex_direct           2020-05-07          2020-06-05   \n",
       "135636  youtube_channel_reklama           2020-05-07          2020-06-05   \n",
       "135637             facebook_ads           2020-05-07          2020-06-05   \n",
       "135638    instagram_new_adverts           2020-05-06          2020-06-05   \n",
       "\n",
       "       lifetime  \n",
       "0        6 days  \n",
       "1       11 days  \n",
       "2       12 days  \n",
       "3        8 days  \n",
       "4        7 days  \n",
       "...         ...  \n",
       "135634  30 days  \n",
       "135635  29 days  \n",
       "135636  29 days  \n",
       "135637  29 days  \n",
       "135638  30 days  \n",
       "\n",
       "[135639 rows x 9 columns]"
      ]
     },
     "execution_count": 231,
     "metadata": {},
     "output_type": "execute_result"
    }
   ],
   "source": [
    "game_actions"
   ]
  },
  {
   "cell_type": "code",
   "execution_count": 232,
   "id": "77594a1a",
   "metadata": {},
   "outputs": [
    {
     "name": "stdout",
     "output_type": "stream",
     "text": [
      "В среднем пользователи проводят в игре 11 days 00:00:00\n"
     ]
    }
   ],
   "source": [
    "print('В среднем пользователи проводят в игре', game_actions['lifetime'].median())"
   ]
  },
  {
   "cell_type": "code",
   "execution_count": 245,
   "id": "1d220fe3",
   "metadata": {},
   "outputs": [
    {
     "data": {
      "image/png": "[encoded data removed]",
      "text/plain": [
       "<Figure size 1000x600 with 1 Axes>"
      ]
     },
     "metadata": {},
     "output_type": "display_data"
    }
   ],
   "source": [
    "a = game_actions['lifetime'].dt.days\n",
    "plt.figure(figsize=(10, 6))\n",
    "plt.hist(a,color = 'green', ec = 'black', bins = 20)\n",
    "plt.title('Mean time in game')\n",
    "plt.xlabel('Lifetime')\n",
    "plt.ylabel('Count')\n",
    "mean_lifetime = a.mean()\n",
    "plt.axvline(x=mean_lifetime, color='blue', linestyle='-', label='Mean')\n",
    "plt.legend()\n",
    "plt.show()"
   ]
  },
  {
   "cell_type": "code",
   "execution_count": 125,
   "id": "1260c955",
   "metadata": {},
   "outputs": [],
   "source": [
    "# отделяем игроков, прошедших первый уровень\n",
    "df_finish_level = game_actions[game_actions['event'] == 'finished_stage_1'].reset_index(drop=True)\n",
    "id_finish_level = df_finish_level['user_id']"
   ]
  },
  {
   "cell_type": "code",
   "execution_count": 126,
   "id": "27a96506",
   "metadata": {},
   "outputs": [],
   "source": [
    "# игроки прошедшие первый уровень\n",
    "finish_stage = game_actions.query('user_id in @id_finish_level').reset_index(drop=True)\n",
    "# игроки не прошедшие первый уровень\n",
    "not_finish_stage = game_actions.query('user_id not in @id_finish_level').reset_index(drop=True)"
   ]
  },
  {
   "cell_type": "code",
   "execution_count": 127,
   "id": "c224cd1a",
   "metadata": {},
   "outputs": [],
   "source": [
    "# игроки, закончившие уровень через проект \n",
    "project_users = finish_stage[finish_stage['event'] == 'project'].reset_index(drop=True)\n",
    "project_users = project_users['user_id']"
   ]
  },
  {
   "cell_type": "code",
   "execution_count": 128,
   "id": "abf6c9c0",
   "metadata": {},
   "outputs": [],
   "source": [
    "# игроки с уровнем, завершившие проект pve\n",
    "finished_project = finish_stage.query('user_id in @project_users').reset_index(drop=True)\n",
    "# игроки с уровнем, победившие врага pvp\n",
    "finished_win = finish_stage.query('user_id not in @project_users').reset_index(drop=True)"
   ]
  },
  {
   "cell_type": "code",
   "execution_count": 129,
   "id": "756abbff",
   "metadata": {},
   "outputs": [
    {
     "name": "stdout",
     "output_type": "stream",
     "text": [
      "13 days 00:00:00 - среднее игровое время пользователей, завершивших 1 уровень через проект.\n",
      "11 days 00:00:00 - среднее игровое время пользователей, завершивших 1 уровень через победу над врагом.\n"
     ]
    }
   ],
   "source": [
    "print(finished_project['lifetime'].median(), '- среднее игровое время пользователей, завершивших 1 уровень через проект.')\n",
    "print(finished_win['lifetime'].median(), '- среднее игровое время пользователей, завершивших 1 уровень через победу над врагом.')\n"
   ]
  },
  {
   "cell_type": "code",
   "execution_count": 246,
   "id": "4bbfafeb",
   "metadata": {},
   "outputs": [
    {
     "data": {
      "image/png": "[encoded data removed]",
      "text/plain": [
       "<Figure size 1000x600 with 1 Axes>"
      ]
     },
     "metadata": {},
     "output_type": "display_data"
    },
    {
     "data": {
      "image/png": "[encoded data removed]",
      "text/plain": [
       "<Figure size 1000x600 with 1 Axes>"
      ]
     },
     "metadata": {},
     "output_type": "display_data"
    }
   ],
   "source": [
    "a = finished_project['lifetime'].dt.days\n",
    "plt.figure(figsize=(10, 6))\n",
    "plt.hist(a,color = 'green', ec = 'black', bins = 20)\n",
    "plt.xlabel('Lifetime')\n",
    "plt.title('Average time of who completed the project')\n",
    "plt.ylabel('Count')\n",
    "mean_lifetime = a.mean()\n",
    "plt.axvline(x=mean_lifetime, color='blue', linestyle='-', label='Mean')\n",
    "plt.legend()\n",
    "plt.show()\n",
    "\n",
    "a = finished_win['lifetime'].dt.days\n",
    "plt.figure(figsize=(10, 6))\n",
    "plt.hist(a,color = 'green', ec = 'black', bins = 20)\n",
    "plt.xlabel('Lifetime')\n",
    "plt.title('Average time of who defeated the enemy')\n",
    "plt.ylabel('Count')\n",
    "mean_lifetime = a.mean()\n",
    "plt.axvline(x=mean_lifetime, color='blue', linestyle='-', label='Mean')\n",
    "plt.legend()\n",
    "plt.show()"
   ]
  },
  {
   "cell_type": "markdown",
   "id": "2a8fe38b",
   "metadata": {},
   "source": [
    "В среднем, стратегия прохождения первого уровня через победу над врагом, оказалась быстрее в реализации на 2 дня, чем стратегия проекта."
   ]
  },
  {
   "cell_type": "markdown",
   "id": "afc17eed",
   "metadata": {},
   "source": [
    "## 2.3. Анализ доли пользователей завершивших уровень - сделано"
   ]
  },
  {
   "cell_type": "code",
   "execution_count": 130,
   "id": "baf75176",
   "metadata": {},
   "outputs": [
    {
     "data": {
      "text/plain": [
       "0       ced7b368-818f-48f6-9461-2346de0892c5\n",
       "1       7ef7fc89-2779-46ea-b328-9e5035b83af5\n",
       "2       70db22b3-c2f4-43bc-94ea-51c8d2904a29\n",
       "3       903fc9ef-ba97-4b12-9d5c-ac8d602fbd8b\n",
       "4       58e077ba-feb1-4556-a5a0-d96bd04efa39\n",
       "                        ...                 \n",
       "5812    22cce310-fe10-41a2-941b-9c3d63327fea\n",
       "5813    d477dde8-7c22-4f23-9c4f-4ec31a1aa4c8\n",
       "5814    515c1952-99aa-4bca-a7ea-d0449eb5385a\n",
       "5815    32572adb-900f-4b5d-a453-1eb1e6d88d8b\n",
       "5816    f21d179f-1c4b-437e-b9c6-ab1976907195\n",
       "Name: user_id, Length: 5817, dtype: object"
      ]
     },
     "execution_count": 130,
     "metadata": {},
     "output_type": "execute_result"
    }
   ],
   "source": [
    "id_finish_level"
   ]
  },
  {
   "cell_type": "code",
   "execution_count": 252,
   "id": "4c09b127",
   "metadata": {},
   "outputs": [],
   "source": [
    "def precent_users(df, df2):\n",
    "    users = df['user_id'].nunique()\n",
    "    users_2 = df2['user_id'].nunique()\n",
    "    precent = users_2 / users\n",
    "    return precent"
   ]
  },
  {
   "cell_type": "code",
   "execution_count": 254,
   "id": "af9f04b2",
   "metadata": {},
   "outputs": [
    {
     "name": "stdout",
     "output_type": "stream",
     "text": [
      "Первый уровень завершили:\n",
      "42.8%\n",
      "Первый уровень не завершили:\n",
      "57.2%\n"
     ]
    }
   ],
   "source": [
    "print('Первый уровень завершили:')\n",
    "print('{:.1%}'.format(precent_users(game_actions, finish_stage)))\n",
    "print('Первый уровень не завершили:')\n",
    "print('{:.1%}'.format(precent_users(game_actions, not_finish_stage)))"
   ]
  },
  {
   "cell_type": "code",
   "execution_count": 262,
   "id": "a2d83ab6",
   "metadata": {},
   "outputs": [
    {
     "data": {
      "image/png": "[encoded data removed]",
      "text/plain": [
       "<Figure size 640x480 with 1 Axes>"
      ]
     },
     "metadata": {},
     "output_type": "display_data"
    }
   ],
   "source": [
    "value1 = precent_users(game_actions, finish_stage)\n",
    "value2 = precent_users(game_actions, not_finish_stage)\n",
    "values = [value1, value2]\n",
    "labels = ['Первый уровень завершили', \"Первый уровень не завершили\"]\n",
    "plt.pie(values, labels=labels, autopct='%1.1f%%')\n",
    "plt.axis('equal')\n",
    "plt.show()"
   ]
  },
  {
   "cell_type": "markdown",
   "id": "3becadf7",
   "metadata": {},
   "source": [
    "42.8% уровень завершили"
   ]
  },
  {
   "cell_type": "markdown",
   "id": "c0f8713b",
   "metadata": {},
   "source": [
    "## 2.4. Анализ долей различных стратегий в канале "
   ]
  },
  {
   "cell_type": "code",
   "execution_count": 264,
   "id": "afed01a9",
   "metadata": {},
   "outputs": [
    {
     "name": "stdout",
     "output_type": "stream",
     "text": [
      "Закончили первый уровень проектом:\n",
      "32.1%\n",
      "Закончили первый уровень победой:\n",
      "67.9%\n"
     ]
    }
   ],
   "source": [
    "print('Закончили первый уровень проектом:')\n",
    "print('{:.1%}'.format(precent_users(finish_stage, finished_project)))\n",
    "print('Закончили первый уровень победой:')\n",
    "print('{:.1%}'.format(precent_users(finish_stage, finished_win)))"
   ]
  },
  {
   "cell_type": "code",
   "execution_count": 265,
   "id": "44ef2ab4",
   "metadata": {},
   "outputs": [
    {
     "data": {
      "image/png": "[encoded data removed]",
      "text/plain": [
       "<Figure size 640x480 with 1 Axes>"
      ]
     },
     "metadata": {},
     "output_type": "display_data"
    }
   ],
   "source": [
    "value1 = precent_users(finish_stage, finished_project)\n",
    "value2 = precent_users(finish_stage, finished_win)\n",
    "values = [value1, value2]\n",
    "labels = ['Закончили первый уровень проектом', \"Закончили первый уровень победой\"]\n",
    "plt.pie(values, labels=labels, autopct='%1.1f%%')\n",
    "plt.axis('equal')\n",
    "plt.show()"
   ]
  },
  {
   "cell_type": "markdown",
   "id": "13a06013",
   "metadata": {},
   "source": [
    "2/3 игроков, которые завершили первый уровень, выбрали стратегию сражения и победы над врагом."
   ]
  },
  {
   "cell_type": "markdown",
   "id": "4e8d3b97",
   "metadata": {},
   "source": [
    "## Проверка 1 гипотезы"
   ]
  },
  {
   "cell_type": "markdown",
   "id": "9fb947ae",
   "metadata": {},
   "source": [
    "H0: время завершения уровня не различается в зависимости способа прохождения\n",
    "\n",
    "H1: время завершения уровня различается в зависимости способа прохождения"
   ]
  },
  {
   "cell_type": "code",
   "execution_count": 94,
   "id": "162883e4",
   "metadata": {},
   "outputs": [
    {
     "name": "stdout",
     "output_type": "stream",
     "text": [
      "T-статистика: 61.31515606383028\n",
      "p-значение: 0.0\n"
     ]
    }
   ],
   "source": [
    "from scipy import stats\n",
    "finished_project['lifetime'] = finished_project['lifetime'].dt.days\n",
    "finished_win['lifetime'] = finished_win['lifetime'].dt.days\n",
    "t_statistic, p_value = stats.ttest_ind(finished_project['lifetime'], finished_win['lifetime'])\n",
    "print(\"T-статистика:\", t_statistic)\n",
    "print(\"p-значение:\", p_value)"
   ]
  },
  {
   "cell_type": "markdown",
   "id": "6cbce2f1",
   "metadata": {},
   "source": [
    "Время завершения уровня различается в зависимости способа прохождения\n",
    "Получли значение t-test 61, то есть отклоняется на 61 среднекквадратичное отклонение, что очень много на самом деле, а p-value равное 0, показывает, что вероятность отклониться (то есть чтобы были примерно равны) равна 0\n",
    "\n",
    "Нулевая гипотеза отвергается, альтернативная подтверждается"
   ]
  },
  {
   "cell_type": "markdown",
   "id": "af79dd69",
   "metadata": {},
   "source": [
    "## Проверка 2 гипотезы"
   ]
  },
  {
   "cell_type": "markdown",
   "id": "993d8a8a",
   "metadata": {},
   "source": [
    "H0: Среднее время в игре пользователей из источника instagram_new_adverts равно среднему времени в игре пользователей из источника youtube_channel_reklama\n",
    "\n",
    "H1: Среднее время в игре пользователей из источника instagram_new_adverts отличается от среднего времени в игре пользователей из источника youtube_channel_reklama"
   ]
  },
  {
   "cell_type": "code",
   "execution_count": 166,
   "id": "38013fbf",
   "metadata": {},
   "outputs": [
    {
     "name": "stdout",
     "output_type": "stream",
     "text": [
      "T-статистика: 1.6858508909796104\n",
      "P-значение: 0.0918791932701945\n"
     ]
    }
   ],
   "source": [
    "from scipy.stats import ttest_ind\n",
    "game_actions_unique = game_actions.drop_duplicates(subset='user_id')\n",
    "source_X_data = game_actions_unique[game_actions_unique['source'] == 'instagram_new_adverts']['lifetime'].dt.days\n",
    "source_Y_data = game_actions_unique[game_actions_unique['source'] == 'youtube_channel_reklama']['lifetime'].dt.days\n",
    "t_stat, p_value = ttest_ind(source_X_data, source_Y_data, equal_var=False)\n",
    "print('T-статистика:', t_stat)\n",
    "print('P-значение:', p_value)"
   ]
  },
  {
   "cell_type": "markdown",
   "id": "0b13fa4c",
   "metadata": {},
   "source": [
    "T-test = 1.8392516926346225 и p-value = 0.06591910889359687, есть небольшое отклонение среднего времени в игре между пользователяит из instagram_new_adverts и youtube_channel_reklama, но оно небольшое, также наше значение p-value > 0.05 (обычный порог для подтверждения нулевой гипотезы), значит среднее время в игре пользователей из источника instagram_new_adverts равно среднему времени в игре пользователей из источника youtube_channel_reklama\n",
    "\n",
    "Нулевая гипотеза подтверждается, альтернативная отвергается"
   ]
  },
  {
   "cell_type": "markdown",
   "id": "3818af8d",
   "metadata": {},
   "source": [
    "## Вычисление метрики САС"
   ]
  },
  {
   "cell_type": "code",
   "execution_count": 152,
   "id": "93fd00b5",
   "metadata": {},
   "outputs": [
    {
     "data": {
      "text/html": [
       "<div>\n",
       "<style scoped>\n",
       "    .dataframe tbody tr th:only-of-type {\n",
       "        vertical-align: middle;\n",
       "    }\n",
       "\n",
       "    .dataframe tbody tr th {\n",
       "        vertical-align: top;\n",
       "    }\n",
       "\n",
       "    .dataframe thead th {\n",
       "        text-align: right;\n",
       "    }\n",
       "</style>\n",
       "<table border=\"1\" class=\"dataframe\">\n",
       "  <thead>\n",
       "    <tr style=\"text-align: right;\">\n",
       "      <th></th>\n",
       "      <th>source</th>\n",
       "      <th>day</th>\n",
       "      <th>cost</th>\n",
       "    </tr>\n",
       "  </thead>\n",
       "  <tbody>\n",
       "    <tr>\n",
       "      <th>0</th>\n",
       "      <td>facebook_ads</td>\n",
       "      <td>2020-05-03</td>\n",
       "      <td>935.882786</td>\n",
       "    </tr>\n",
       "    <tr>\n",
       "      <th>1</th>\n",
       "      <td>facebook_ads</td>\n",
       "      <td>2020-05-04</td>\n",
       "      <td>548.354480</td>\n",
       "    </tr>\n",
       "    <tr>\n",
       "      <th>2</th>\n",
       "      <td>facebook_ads</td>\n",
       "      <td>2020-05-05</td>\n",
       "      <td>260.185754</td>\n",
       "    </tr>\n",
       "    <tr>\n",
       "      <th>3</th>\n",
       "      <td>facebook_ads</td>\n",
       "      <td>2020-05-06</td>\n",
       "      <td>177.982200</td>\n",
       "    </tr>\n",
       "    <tr>\n",
       "      <th>4</th>\n",
       "      <td>facebook_ads</td>\n",
       "      <td>2020-05-07</td>\n",
       "      <td>111.766796</td>\n",
       "    </tr>\n",
       "    <tr>\n",
       "      <th>5</th>\n",
       "      <td>facebook_ads</td>\n",
       "      <td>2020-05-08</td>\n",
       "      <td>68.009276</td>\n",
       "    </tr>\n",
       "    <tr>\n",
       "      <th>6</th>\n",
       "      <td>facebook_ads</td>\n",
       "      <td>2020-05-09</td>\n",
       "      <td>38.723350</td>\n",
       "    </tr>\n",
       "    <tr>\n",
       "      <th>7</th>\n",
       "      <td>instagram_new_adverts</td>\n",
       "      <td>2020-05-03</td>\n",
       "      <td>943.204717</td>\n",
       "    </tr>\n",
       "    <tr>\n",
       "      <th>8</th>\n",
       "      <td>instagram_new_adverts</td>\n",
       "      <td>2020-05-04</td>\n",
       "      <td>502.925451</td>\n",
       "    </tr>\n",
       "    <tr>\n",
       "      <th>9</th>\n",
       "      <td>instagram_new_adverts</td>\n",
       "      <td>2020-05-05</td>\n",
       "      <td>313.970984</td>\n",
       "    </tr>\n",
       "    <tr>\n",
       "      <th>10</th>\n",
       "      <td>instagram_new_adverts</td>\n",
       "      <td>2020-05-06</td>\n",
       "      <td>173.071145</td>\n",
       "    </tr>\n",
       "    <tr>\n",
       "      <th>11</th>\n",
       "      <td>instagram_new_adverts</td>\n",
       "      <td>2020-05-07</td>\n",
       "      <td>109.915254</td>\n",
       "    </tr>\n",
       "    <tr>\n",
       "      <th>12</th>\n",
       "      <td>instagram_new_adverts</td>\n",
       "      <td>2020-05-08</td>\n",
       "      <td>71.578739</td>\n",
       "    </tr>\n",
       "    <tr>\n",
       "      <th>13</th>\n",
       "      <td>instagram_new_adverts</td>\n",
       "      <td>2020-05-09</td>\n",
       "      <td>46.775400</td>\n",
       "    </tr>\n",
       "    <tr>\n",
       "      <th>14</th>\n",
       "      <td>yandex_direct</td>\n",
       "      <td>2020-05-03</td>\n",
       "      <td>969.139394</td>\n",
       "    </tr>\n",
       "    <tr>\n",
       "      <th>15</th>\n",
       "      <td>yandex_direct</td>\n",
       "      <td>2020-05-04</td>\n",
       "      <td>554.651494</td>\n",
       "    </tr>\n",
       "    <tr>\n",
       "      <th>16</th>\n",
       "      <td>yandex_direct</td>\n",
       "      <td>2020-05-05</td>\n",
       "      <td>308.232990</td>\n",
       "    </tr>\n",
       "    <tr>\n",
       "      <th>17</th>\n",
       "      <td>yandex_direct</td>\n",
       "      <td>2020-05-06</td>\n",
       "      <td>180.917099</td>\n",
       "    </tr>\n",
       "    <tr>\n",
       "      <th>18</th>\n",
       "      <td>yandex_direct</td>\n",
       "      <td>2020-05-07</td>\n",
       "      <td>114.429338</td>\n",
       "    </tr>\n",
       "    <tr>\n",
       "      <th>19</th>\n",
       "      <td>yandex_direct</td>\n",
       "      <td>2020-05-08</td>\n",
       "      <td>62.961630</td>\n",
       "    </tr>\n",
       "    <tr>\n",
       "      <th>20</th>\n",
       "      <td>yandex_direct</td>\n",
       "      <td>2020-05-09</td>\n",
       "      <td>42.779505</td>\n",
       "    </tr>\n",
       "    <tr>\n",
       "      <th>21</th>\n",
       "      <td>youtube_channel_reklama</td>\n",
       "      <td>2020-05-03</td>\n",
       "      <td>454.224943</td>\n",
       "    </tr>\n",
       "    <tr>\n",
       "      <th>22</th>\n",
       "      <td>youtube_channel_reklama</td>\n",
       "      <td>2020-05-04</td>\n",
       "      <td>259.073224</td>\n",
       "    </tr>\n",
       "    <tr>\n",
       "      <th>23</th>\n",
       "      <td>youtube_channel_reklama</td>\n",
       "      <td>2020-05-05</td>\n",
       "      <td>147.041741</td>\n",
       "    </tr>\n",
       "    <tr>\n",
       "      <th>24</th>\n",
       "      <td>youtube_channel_reklama</td>\n",
       "      <td>2020-05-06</td>\n",
       "      <td>88.506074</td>\n",
       "    </tr>\n",
       "    <tr>\n",
       "      <th>25</th>\n",
       "      <td>youtube_channel_reklama</td>\n",
       "      <td>2020-05-07</td>\n",
       "      <td>55.740645</td>\n",
       "    </tr>\n",
       "    <tr>\n",
       "      <th>26</th>\n",
       "      <td>youtube_channel_reklama</td>\n",
       "      <td>2020-05-08</td>\n",
       "      <td>40.217907</td>\n",
       "    </tr>\n",
       "    <tr>\n",
       "      <th>27</th>\n",
       "      <td>youtube_channel_reklama</td>\n",
       "      <td>2020-05-09</td>\n",
       "      <td>23.314669</td>\n",
       "    </tr>\n",
       "  </tbody>\n",
       "</table>\n",
       "</div>"
      ],
      "text/plain": [
       "                     source        day        cost\n",
       "0              facebook_ads 2020-05-03  935.882786\n",
       "1              facebook_ads 2020-05-04  548.354480\n",
       "2              facebook_ads 2020-05-05  260.185754\n",
       "3              facebook_ads 2020-05-06  177.982200\n",
       "4              facebook_ads 2020-05-07  111.766796\n",
       "5              facebook_ads 2020-05-08   68.009276\n",
       "6              facebook_ads 2020-05-09   38.723350\n",
       "7     instagram_new_adverts 2020-05-03  943.204717\n",
       "8     instagram_new_adverts 2020-05-04  502.925451\n",
       "9     instagram_new_adverts 2020-05-05  313.970984\n",
       "10    instagram_new_adverts 2020-05-06  173.071145\n",
       "11    instagram_new_adverts 2020-05-07  109.915254\n",
       "12    instagram_new_adverts 2020-05-08   71.578739\n",
       "13    instagram_new_adverts 2020-05-09   46.775400\n",
       "14            yandex_direct 2020-05-03  969.139394\n",
       "15            yandex_direct 2020-05-04  554.651494\n",
       "16            yandex_direct 2020-05-05  308.232990\n",
       "17            yandex_direct 2020-05-06  180.917099\n",
       "18            yandex_direct 2020-05-07  114.429338\n",
       "19            yandex_direct 2020-05-08   62.961630\n",
       "20            yandex_direct 2020-05-09   42.779505\n",
       "21  youtube_channel_reklama 2020-05-03  454.224943\n",
       "22  youtube_channel_reklama 2020-05-04  259.073224\n",
       "23  youtube_channel_reklama 2020-05-05  147.041741\n",
       "24  youtube_channel_reklama 2020-05-06   88.506074\n",
       "25  youtube_channel_reklama 2020-05-07   55.740645\n",
       "26  youtube_channel_reklama 2020-05-08   40.217907\n",
       "27  youtube_channel_reklama 2020-05-09   23.314669"
      ]
     },
     "execution_count": 152,
     "metadata": {},
     "output_type": "execute_result"
    }
   ],
   "source": [
    "ad_costs"
   ]
  },
  {
   "cell_type": "code",
   "execution_count": 153,
   "id": "9c9d7bdd",
   "metadata": {},
   "outputs": [
    {
     "data": {
      "text/plain": [
       "7603.576986788023"
      ]
     },
     "execution_count": 153,
     "metadata": {},
     "output_type": "execute_result"
    }
   ],
   "source": [
    "# всего за период с 2020-05-03 по 2020-05-09 потрачено\n",
    "total_cost = ad_costs['cost'].sum()\n",
    "total_cost"
   ]
  },
  {
   "cell_type": "code",
   "execution_count": 154,
   "id": "fd910ae4",
   "metadata": {},
   "outputs": [
    {
     "data": {
      "text/html": [
       "<div>\n",
       "<style scoped>\n",
       "    .dataframe tbody tr th:only-of-type {\n",
       "        vertical-align: middle;\n",
       "    }\n",
       "\n",
       "    .dataframe tbody tr th {\n",
       "        vertical-align: top;\n",
       "    }\n",
       "\n",
       "    .dataframe thead th {\n",
       "        text-align: right;\n",
       "    }\n",
       "</style>\n",
       "<table border=\"1\" class=\"dataframe\">\n",
       "  <thead>\n",
       "    <tr style=\"text-align: right;\">\n",
       "      <th></th>\n",
       "      <th>event_datetime</th>\n",
       "      <th>event</th>\n",
       "      <th>building_type</th>\n",
       "      <th>user_id</th>\n",
       "      <th>project_type</th>\n",
       "      <th>source</th>\n",
       "      <th>first_event_datetime</th>\n",
       "      <th>last_event_datetime</th>\n",
       "      <th>lifetime</th>\n",
       "    </tr>\n",
       "  </thead>\n",
       "  <tbody>\n",
       "    <tr>\n",
       "      <th>0</th>\n",
       "      <td>2020-05-04 00:00:01</td>\n",
       "      <td>building</td>\n",
       "      <td>assembly_shop</td>\n",
       "      <td>55e92310-cb8e-4754-b622-597e124b03de</td>\n",
       "      <td>NaN</td>\n",
       "      <td>youtube_channel_reklama</td>\n",
       "      <td>2020-05-04</td>\n",
       "      <td>2020-05-10</td>\n",
       "      <td>6 days</td>\n",
       "    </tr>\n",
       "    <tr>\n",
       "      <th>1</th>\n",
       "      <td>2020-05-04 00:00:03</td>\n",
       "      <td>building</td>\n",
       "      <td>assembly_shop</td>\n",
       "      <td>c07b1c10-f477-44dc-81dc-ec82254b1347</td>\n",
       "      <td>NaN</td>\n",
       "      <td>facebook_ads</td>\n",
       "      <td>2020-05-04</td>\n",
       "      <td>2020-05-15</td>\n",
       "      <td>11 days</td>\n",
       "    </tr>\n",
       "    <tr>\n",
       "      <th>2</th>\n",
       "      <td>2020-05-04 00:00:16</td>\n",
       "      <td>building</td>\n",
       "      <td>assembly_shop</td>\n",
       "      <td>6edd42cc-e753-4ff6-a947-2107cd560710</td>\n",
       "      <td>NaN</td>\n",
       "      <td>instagram_new_adverts</td>\n",
       "      <td>2020-05-04</td>\n",
       "      <td>2020-05-16</td>\n",
       "      <td>12 days</td>\n",
       "    </tr>\n",
       "    <tr>\n",
       "      <th>3</th>\n",
       "      <td>2020-05-04 00:00:16</td>\n",
       "      <td>building</td>\n",
       "      <td>assembly_shop</td>\n",
       "      <td>92c69003-d60a-444a-827f-8cc51bf6bf4c</td>\n",
       "      <td>NaN</td>\n",
       "      <td>facebook_ads</td>\n",
       "      <td>2020-05-04</td>\n",
       "      <td>2020-05-12</td>\n",
       "      <td>8 days</td>\n",
       "    </tr>\n",
       "    <tr>\n",
       "      <th>4</th>\n",
       "      <td>2020-05-04 00:00:35</td>\n",
       "      <td>building</td>\n",
       "      <td>assembly_shop</td>\n",
       "      <td>cdc6bb92-0ccb-4490-9866-ef142f09139d</td>\n",
       "      <td>NaN</td>\n",
       "      <td>yandex_direct</td>\n",
       "      <td>2020-05-04</td>\n",
       "      <td>2020-05-11</td>\n",
       "      <td>7 days</td>\n",
       "    </tr>\n",
       "    <tr>\n",
       "      <th>...</th>\n",
       "      <td>...</td>\n",
       "      <td>...</td>\n",
       "      <td>...</td>\n",
       "      <td>...</td>\n",
       "      <td>...</td>\n",
       "      <td>...</td>\n",
       "      <td>...</td>\n",
       "      <td>...</td>\n",
       "      <td>...</td>\n",
       "    </tr>\n",
       "    <tr>\n",
       "      <th>78142</th>\n",
       "      <td>2020-05-10 23:34:33</td>\n",
       "      <td>building</td>\n",
       "      <td>assembly_shop</td>\n",
       "      <td>20bc9d79-10c4-4f2d-862e-4a6dece3b4ec</td>\n",
       "      <td>NaN</td>\n",
       "      <td>youtube_channel_reklama</td>\n",
       "      <td>2020-05-10</td>\n",
       "      <td>2020-05-31</td>\n",
       "      <td>21 days</td>\n",
       "    </tr>\n",
       "    <tr>\n",
       "      <th>78144</th>\n",
       "      <td>2020-05-10 23:34:43</td>\n",
       "      <td>building</td>\n",
       "      <td>assembly_shop</td>\n",
       "      <td>daea0325-f7c5-4008-b5f6-f89fc2c1e019</td>\n",
       "      <td>NaN</td>\n",
       "      <td>yandex_direct</td>\n",
       "      <td>2020-05-10</td>\n",
       "      <td>2020-05-10</td>\n",
       "      <td>0 days</td>\n",
       "    </tr>\n",
       "    <tr>\n",
       "      <th>78234</th>\n",
       "      <td>2020-05-10 23:44:17</td>\n",
       "      <td>building</td>\n",
       "      <td>assembly_shop</td>\n",
       "      <td>7b225969-375a-455e-a14a-ed1ab373fb65</td>\n",
       "      <td>NaN</td>\n",
       "      <td>instagram_new_adverts</td>\n",
       "      <td>2020-05-10</td>\n",
       "      <td>2020-05-24</td>\n",
       "      <td>14 days</td>\n",
       "    </tr>\n",
       "    <tr>\n",
       "      <th>78385</th>\n",
       "      <td>2020-05-10 23:57:56</td>\n",
       "      <td>building</td>\n",
       "      <td>assembly_shop</td>\n",
       "      <td>cafd1b8b-507b-49ae-abf0-89fe863a8b03</td>\n",
       "      <td>NaN</td>\n",
       "      <td>facebook_ads</td>\n",
       "      <td>2020-05-10</td>\n",
       "      <td>2020-05-18</td>\n",
       "      <td>8 days</td>\n",
       "    </tr>\n",
       "    <tr>\n",
       "      <th>78400</th>\n",
       "      <td>2020-05-10 23:59:52</td>\n",
       "      <td>building</td>\n",
       "      <td>assembly_shop</td>\n",
       "      <td>bdc53e19-462a-4dc3-8b55-b4a34278af6a</td>\n",
       "      <td>NaN</td>\n",
       "      <td>youtube_channel_reklama</td>\n",
       "      <td>2020-05-10</td>\n",
       "      <td>2020-05-18</td>\n",
       "      <td>8 days</td>\n",
       "    </tr>\n",
       "  </tbody>\n",
       "</table>\n",
       "<p>13576 rows × 9 columns</p>\n",
       "</div>"
      ],
      "text/plain": [
       "           event_datetime     event  building_type  \\\n",
       "0     2020-05-04 00:00:01  building  assembly_shop   \n",
       "1     2020-05-04 00:00:03  building  assembly_shop   \n",
       "2     2020-05-04 00:00:16  building  assembly_shop   \n",
       "3     2020-05-04 00:00:16  building  assembly_shop   \n",
       "4     2020-05-04 00:00:35  building  assembly_shop   \n",
       "...                   ...       ...            ...   \n",
       "78142 2020-05-10 23:34:33  building  assembly_shop   \n",
       "78144 2020-05-10 23:34:43  building  assembly_shop   \n",
       "78234 2020-05-10 23:44:17  building  assembly_shop   \n",
       "78385 2020-05-10 23:57:56  building  assembly_shop   \n",
       "78400 2020-05-10 23:59:52  building  assembly_shop   \n",
       "\n",
       "                                    user_id project_type  \\\n",
       "0      55e92310-cb8e-4754-b622-597e124b03de          NaN   \n",
       "1      c07b1c10-f477-44dc-81dc-ec82254b1347          NaN   \n",
       "2      6edd42cc-e753-4ff6-a947-2107cd560710          NaN   \n",
       "3      92c69003-d60a-444a-827f-8cc51bf6bf4c          NaN   \n",
       "4      cdc6bb92-0ccb-4490-9866-ef142f09139d          NaN   \n",
       "...                                     ...          ...   \n",
       "78142  20bc9d79-10c4-4f2d-862e-4a6dece3b4ec          NaN   \n",
       "78144  daea0325-f7c5-4008-b5f6-f89fc2c1e019          NaN   \n",
       "78234  7b225969-375a-455e-a14a-ed1ab373fb65          NaN   \n",
       "78385  cafd1b8b-507b-49ae-abf0-89fe863a8b03          NaN   \n",
       "78400  bdc53e19-462a-4dc3-8b55-b4a34278af6a          NaN   \n",
       "\n",
       "                        source first_event_datetime last_event_datetime  \\\n",
       "0      youtube_channel_reklama           2020-05-04          2020-05-10   \n",
       "1                 facebook_ads           2020-05-04          2020-05-15   \n",
       "2        instagram_new_adverts           2020-05-04          2020-05-16   \n",
       "3                 facebook_ads           2020-05-04          2020-05-12   \n",
       "4                yandex_direct           2020-05-04          2020-05-11   \n",
       "...                        ...                  ...                 ...   \n",
       "78142  youtube_channel_reklama           2020-05-10          2020-05-31   \n",
       "78144            yandex_direct           2020-05-10          2020-05-10   \n",
       "78234    instagram_new_adverts           2020-05-10          2020-05-24   \n",
       "78385             facebook_ads           2020-05-10          2020-05-18   \n",
       "78400  youtube_channel_reklama           2020-05-10          2020-05-18   \n",
       "\n",
       "      lifetime  \n",
       "0       6 days  \n",
       "1      11 days  \n",
       "2      12 days  \n",
       "3       8 days  \n",
       "4       7 days  \n",
       "...        ...  \n",
       "78142  21 days  \n",
       "78144   0 days  \n",
       "78234  14 days  \n",
       "78385   8 days  \n",
       "78400   8 days  \n",
       "\n",
       "[13576 rows x 9 columns]"
      ]
     },
     "execution_count": 154,
     "metadata": {},
     "output_type": "execute_result"
    }
   ],
   "source": [
    "game_actions_unique = game_actions.drop_duplicates(subset='user_id')\n",
    "game_actions_unique"
   ]
  },
  {
   "cell_type": "code",
   "execution_count": 158,
   "id": "f905c3b5",
   "metadata": {},
   "outputs": [
    {
     "data": {
      "text/html": [
       "<div>\n",
       "<style scoped>\n",
       "    .dataframe tbody tr th:only-of-type {\n",
       "        vertical-align: middle;\n",
       "    }\n",
       "\n",
       "    .dataframe tbody tr th {\n",
       "        vertical-align: top;\n",
       "    }\n",
       "\n",
       "    .dataframe thead th {\n",
       "        text-align: right;\n",
       "    }\n",
       "</style>\n",
       "<table border=\"1\" class=\"dataframe\">\n",
       "  <thead>\n",
       "    <tr style=\"text-align: right;\">\n",
       "      <th></th>\n",
       "      <th>event_datetime</th>\n",
       "      <th>event</th>\n",
       "      <th>building_type</th>\n",
       "      <th>user_id</th>\n",
       "      <th>project_type</th>\n",
       "      <th>source</th>\n",
       "      <th>first_event_datetime</th>\n",
       "      <th>last_event_datetime</th>\n",
       "      <th>lifetime</th>\n",
       "    </tr>\n",
       "  </thead>\n",
       "  <tbody>\n",
       "    <tr>\n",
       "      <th>0</th>\n",
       "      <td>2020-05-04 00:00:01</td>\n",
       "      <td>building</td>\n",
       "      <td>assembly_shop</td>\n",
       "      <td>55e92310-cb8e-4754-b622-597e124b03de</td>\n",
       "      <td>NaN</td>\n",
       "      <td>youtube_channel_reklama</td>\n",
       "      <td>2020-05-04</td>\n",
       "      <td>2020-05-10</td>\n",
       "      <td>6 days</td>\n",
       "    </tr>\n",
       "    <tr>\n",
       "      <th>1</th>\n",
       "      <td>2020-05-04 00:00:03</td>\n",
       "      <td>building</td>\n",
       "      <td>assembly_shop</td>\n",
       "      <td>c07b1c10-f477-44dc-81dc-ec82254b1347</td>\n",
       "      <td>NaN</td>\n",
       "      <td>facebook_ads</td>\n",
       "      <td>2020-05-04</td>\n",
       "      <td>2020-05-15</td>\n",
       "      <td>11 days</td>\n",
       "    </tr>\n",
       "    <tr>\n",
       "      <th>2</th>\n",
       "      <td>2020-05-04 00:00:16</td>\n",
       "      <td>building</td>\n",
       "      <td>assembly_shop</td>\n",
       "      <td>6edd42cc-e753-4ff6-a947-2107cd560710</td>\n",
       "      <td>NaN</td>\n",
       "      <td>instagram_new_adverts</td>\n",
       "      <td>2020-05-04</td>\n",
       "      <td>2020-05-16</td>\n",
       "      <td>12 days</td>\n",
       "    </tr>\n",
       "    <tr>\n",
       "      <th>3</th>\n",
       "      <td>2020-05-04 00:00:16</td>\n",
       "      <td>building</td>\n",
       "      <td>assembly_shop</td>\n",
       "      <td>92c69003-d60a-444a-827f-8cc51bf6bf4c</td>\n",
       "      <td>NaN</td>\n",
       "      <td>facebook_ads</td>\n",
       "      <td>2020-05-04</td>\n",
       "      <td>2020-05-12</td>\n",
       "      <td>8 days</td>\n",
       "    </tr>\n",
       "    <tr>\n",
       "      <th>4</th>\n",
       "      <td>2020-05-04 00:00:35</td>\n",
       "      <td>building</td>\n",
       "      <td>assembly_shop</td>\n",
       "      <td>cdc6bb92-0ccb-4490-9866-ef142f09139d</td>\n",
       "      <td>NaN</td>\n",
       "      <td>yandex_direct</td>\n",
       "      <td>2020-05-04</td>\n",
       "      <td>2020-05-11</td>\n",
       "      <td>7 days</td>\n",
       "    </tr>\n",
       "    <tr>\n",
       "      <th>...</th>\n",
       "      <td>...</td>\n",
       "      <td>...</td>\n",
       "      <td>...</td>\n",
       "      <td>...</td>\n",
       "      <td>...</td>\n",
       "      <td>...</td>\n",
       "      <td>...</td>\n",
       "      <td>...</td>\n",
       "      <td>...</td>\n",
       "    </tr>\n",
       "    <tr>\n",
       "      <th>63108</th>\n",
       "      <td>2020-05-09 23:50:21</td>\n",
       "      <td>building</td>\n",
       "      <td>assembly_shop</td>\n",
       "      <td>117ce7a1-41e5-41b1-bedf-7e12940a2c34</td>\n",
       "      <td>NaN</td>\n",
       "      <td>youtube_channel_reklama</td>\n",
       "      <td>2020-05-09</td>\n",
       "      <td>2020-05-19</td>\n",
       "      <td>10 days</td>\n",
       "    </tr>\n",
       "    <tr>\n",
       "      <th>63112</th>\n",
       "      <td>2020-05-09 23:50:42</td>\n",
       "      <td>building</td>\n",
       "      <td>assembly_shop</td>\n",
       "      <td>7598633d-2111-4a2c-ada1-a6dcc25b7b9a</td>\n",
       "      <td>NaN</td>\n",
       "      <td>yandex_direct</td>\n",
       "      <td>2020-05-09</td>\n",
       "      <td>2020-05-11</td>\n",
       "      <td>2 days</td>\n",
       "    </tr>\n",
       "    <tr>\n",
       "      <th>63139</th>\n",
       "      <td>2020-05-09 23:54:15</td>\n",
       "      <td>building</td>\n",
       "      <td>assembly_shop</td>\n",
       "      <td>9aa4655a-2fe4-40e0-9976-7686d2d6e489</td>\n",
       "      <td>NaN</td>\n",
       "      <td>instagram_new_adverts</td>\n",
       "      <td>2020-05-09</td>\n",
       "      <td>2020-05-15</td>\n",
       "      <td>6 days</td>\n",
       "    </tr>\n",
       "    <tr>\n",
       "      <th>63143</th>\n",
       "      <td>2020-05-09 23:54:23</td>\n",
       "      <td>building</td>\n",
       "      <td>assembly_shop</td>\n",
       "      <td>afa1f9b4-818d-4c77-b9b1-4019d516292c</td>\n",
       "      <td>NaN</td>\n",
       "      <td>instagram_new_adverts</td>\n",
       "      <td>2020-05-09</td>\n",
       "      <td>2020-05-12</td>\n",
       "      <td>3 days</td>\n",
       "    </tr>\n",
       "    <tr>\n",
       "      <th>63191</th>\n",
       "      <td>2020-05-09 23:59:34</td>\n",
       "      <td>building</td>\n",
       "      <td>assembly_shop</td>\n",
       "      <td>de1e873a-ea74-4bc4-8d4e-caf2d1e38fee</td>\n",
       "      <td>NaN</td>\n",
       "      <td>facebook_ads</td>\n",
       "      <td>2020-05-09</td>\n",
       "      <td>2020-05-17</td>\n",
       "      <td>8 days</td>\n",
       "    </tr>\n",
       "  </tbody>\n",
       "</table>\n",
       "<p>13305 rows × 9 columns</p>\n",
       "</div>"
      ],
      "text/plain": [
       "           event_datetime     event  building_type  \\\n",
       "0     2020-05-04 00:00:01  building  assembly_shop   \n",
       "1     2020-05-04 00:00:03  building  assembly_shop   \n",
       "2     2020-05-04 00:00:16  building  assembly_shop   \n",
       "3     2020-05-04 00:00:16  building  assembly_shop   \n",
       "4     2020-05-04 00:00:35  building  assembly_shop   \n",
       "...                   ...       ...            ...   \n",
       "63108 2020-05-09 23:50:21  building  assembly_shop   \n",
       "63112 2020-05-09 23:50:42  building  assembly_shop   \n",
       "63139 2020-05-09 23:54:15  building  assembly_shop   \n",
       "63143 2020-05-09 23:54:23  building  assembly_shop   \n",
       "63191 2020-05-09 23:59:34  building  assembly_shop   \n",
       "\n",
       "                                    user_id project_type  \\\n",
       "0      55e92310-cb8e-4754-b622-597e124b03de          NaN   \n",
       "1      c07b1c10-f477-44dc-81dc-ec82254b1347          NaN   \n",
       "2      6edd42cc-e753-4ff6-a947-2107cd560710          NaN   \n",
       "3      92c69003-d60a-444a-827f-8cc51bf6bf4c          NaN   \n",
       "4      cdc6bb92-0ccb-4490-9866-ef142f09139d          NaN   \n",
       "...                                     ...          ...   \n",
       "63108  117ce7a1-41e5-41b1-bedf-7e12940a2c34          NaN   \n",
       "63112  7598633d-2111-4a2c-ada1-a6dcc25b7b9a          NaN   \n",
       "63139  9aa4655a-2fe4-40e0-9976-7686d2d6e489          NaN   \n",
       "63143  afa1f9b4-818d-4c77-b9b1-4019d516292c          NaN   \n",
       "63191  de1e873a-ea74-4bc4-8d4e-caf2d1e38fee          NaN   \n",
       "\n",
       "                        source first_event_datetime last_event_datetime  \\\n",
       "0      youtube_channel_reklama           2020-05-04          2020-05-10   \n",
       "1                 facebook_ads           2020-05-04          2020-05-15   \n",
       "2        instagram_new_adverts           2020-05-04          2020-05-16   \n",
       "3                 facebook_ads           2020-05-04          2020-05-12   \n",
       "4                yandex_direct           2020-05-04          2020-05-11   \n",
       "...                        ...                  ...                 ...   \n",
       "63108  youtube_channel_reklama           2020-05-09          2020-05-19   \n",
       "63112            yandex_direct           2020-05-09          2020-05-11   \n",
       "63139    instagram_new_adverts           2020-05-09          2020-05-15   \n",
       "63143    instagram_new_adverts           2020-05-09          2020-05-12   \n",
       "63191             facebook_ads           2020-05-09          2020-05-17   \n",
       "\n",
       "      lifetime  \n",
       "0       6 days  \n",
       "1      11 days  \n",
       "2      12 days  \n",
       "3       8 days  \n",
       "4       7 days  \n",
       "...        ...  \n",
       "63108  10 days  \n",
       "63112   2 days  \n",
       "63139   6 days  \n",
       "63143   3 days  \n",
       "63191   8 days  \n",
       "\n",
       "[13305 rows x 9 columns]"
      ]
     },
     "execution_count": 158,
     "metadata": {},
     "output_type": "execute_result"
    }
   ],
   "source": [
    "start_date = pd.to_datetime('2020-05-03')\n",
    "end_date = pd.to_datetime('2020-05-09')\n",
    "filtered_game_actions_unique = game_actions_unique[(game_actions_unique['first_event_datetime'] >= start_date) & (game_actions_unique['first_event_datetime'] <= end_date)]\n",
    "filtered_game_actions_unique"
   ]
  },
  {
   "cell_type": "code",
   "execution_count": 159,
   "id": "c248a165",
   "metadata": {},
   "outputs": [
    {
     "data": {
      "text/plain": [
       "0.571482674692824"
      ]
     },
     "execution_count": 159,
     "metadata": {},
     "output_type": "execute_result"
    }
   ],
   "source": [
    "CAC = total_cost/filtered_game_actions_unique.shape[0]\n",
    "CAC"
   ]
  }
 ],
 "metadata": {
  "kernelspec": {
   "display_name": "Python 3 (ipykernel)",
   "language": "python",
   "name": "python3"
  },
  "language_info": {
   "codemirror_mode": {
    "name": "ipython",
    "version": 3
   },
   "file_extension": ".py",
   "mimetype": "text/x-python",
   "name": "python",
   "nbconvert_exporter": "python",
   "pygments_lexer": "ipython3",
   "version": "3.9.13"
  }
 },
 "nbformat": 4,
 "nbformat_minor": 5
}
